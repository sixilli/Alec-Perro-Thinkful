{
 "cells": [
  {
   "cell_type": "markdown",
   "metadata": {},
   "source": [
    "# Using NLP to Identify Works by Shakespeare\n",
    "\n",
    "The data for this project includes the ten works with the highest word counts. By using excerpts from the corpus the model will try to predict which play they are from using various processing techniques such as word2vec and tf-idf.\n",
    "\n",
    "| Work | Word Count   |\n",
    "|------|------|\n",
    "|   Hamlet  | 30,557 |\n",
    "|   Richard III  | 29,278 |\n",
    "|   Coriolanus  | 27,589 |\n",
    "|   Cymbeline  | 27,565 |\n",
    "|   Othello  | 26,450 |\n",
    "|   King Lear  | 26,145 |\n",
    "|   Henry V  | 26,119 |\n",
    "|   Troilus and Cressida  | 26,089 |\n",
    "|   Henry IV, Part II   | 25,689 |\n",
    "|   Henvry VI, Part II  | 25,483 |"
   ]
  },
  {
   "cell_type": "code",
   "execution_count": 1,
   "metadata": {},
   "outputs": [],
   "source": [
    "%matplotlib inline\n",
    "import numpy as np\n",
    "import pandas as pd\n",
    "import scipy\n",
    "import sklearn\n",
    "import spacy\n",
    "import matplotlib.pyplot as plt\n",
    "import seaborn as sns\n",
    "import re\n",
    "import os\n",
    "from nltk.corpus import stopwords\n",
    "from collections import Counter"
   ]
  },
  {
   "cell_type": "markdown",
   "metadata": {},
   "source": [
    "# Pre-Processing"
   ]
  },
  {
   "cell_type": "code",
   "execution_count": 8,
   "metadata": {},
   "outputs": [],
   "source": [
    "# Utility functions for cleaning text.\n",
    "def text_cleaner(text):\n",
    "    \n",
    "    # Cleaning out '--'.\n",
    "    text = re.sub(r'--', ' ', text)\n",
    "    \n",
    "    # Removing = signs\n",
    "    text = re.sub(r'=', ' ', text)\n",
    "    \n",
    "    # Getting rid of headings in square brackets.\n",
    "    text = re.sub(\"[\\[].*?[\\]]\", \"\", text)\n",
    "    \n",
    "    # Getting rid of act and scene titles.\n",
    "    text = re.sub(r'(ACT \\d+)', '', text)\n",
    "    text = re.sub(r'(Act \\d+)', '', text)\n",
    "    \n",
    "    text = re.sub(r'(Scene \\d+)', '', text)\n",
    "    text = re.sub(r'(SCENE \\d+)', '', text)\n",
    "    \n",
    "    # Removeing speaking directions\n",
    "    text = re.sub(r'\\b[A-Z]+\\b', '', text)\n",
    "    \n",
    "    # Getting rid of extra whitespace.\n",
    "    text = ' '.join(text.split())\n",
    "    \n",
    "    return text\n",
    "\n",
    "def lemma(text):\n",
    "    # Filter out punctuation and stop words.\n",
    "    allwords = [token.lemma_\n",
    "                for token in text\n",
    "                if not token.is_punct\n",
    "                and not token.is_stop]\n",
    "    \n",
    "    # Return the most common words.\n",
    "    return text"
   ]
  },
  {
   "cell_type": "markdown",
   "metadata": {},
   "source": [
    "Outside of general text cleaning, character speaking queues were also removed. I assumed that if given to the models would correlate too strongly with the correct classification."
   ]
  },
  {
   "cell_type": "code",
   "execution_count": 9,
   "metadata": {},
   "outputs": [],
   "source": [
    "# Function for loading in the texts\n",
    "def loader(name):\n",
    "    path = 'G:/projects/thinkful/spear/'\n",
    "    with open(path + name) as f:\n",
    "        text = f.read()\n",
    "    return text"
   ]
  },
  {
   "cell_type": "markdown",
   "metadata": {},
   "source": [
    "### Data Wrangling "
   ]
  },
  {
   "cell_type": "code",
   "execution_count": 10,
   "metadata": {},
   "outputs": [],
   "source": [
    "# Collecting works into a dictionary\n",
    "all_works = {}\n",
    "\n",
    "all_works['Hamlet'] = loader('Ham.txt')\n",
    "all_works['Richard III'] = loader('R3.txt')\n",
    "all_works['Coriolanus'] = loader('Cor.txt')\n",
    "all_works['Cymbeline'] = loader('Cym.txt')\n",
    "all_works['Othello'] = loader('Oth.txt')\n",
    "all_works['King Lear'] = loader('Lr.txt')\n",
    "all_works['Henry V'] = loader('H5.txt')\n",
    "all_works['Troilus and Cressida'] = loader('Tro.txt')\n",
    "all_works['Henry IV, Part II'] = loader('2H4.txt')\n",
    "all_works['Henry VI, Part II'] = loader('2H6.txt')"
   ]
  },
  {
   "cell_type": "code",
   "execution_count": 11,
   "metadata": {},
   "outputs": [],
   "source": [
    "# Cleaning text\n",
    "nlp = spacy.load('en_core_web_sm')\n",
    "clean_works = all_works\n",
    "for key in clean_works:\n",
    "    clean_works[key] = lemma(nlp(text_cleaner(clean_works[key]))) "
   ]
  },
  {
   "cell_type": "code",
   "execution_count": 12,
   "metadata": {},
   "outputs": [
    {
     "data": {
      "text/html": [
       "<div>\n",
       "<style scoped>\n",
       "    .dataframe tbody tr th:only-of-type {\n",
       "        vertical-align: middle;\n",
       "    }\n",
       "\n",
       "    .dataframe tbody tr th {\n",
       "        vertical-align: top;\n",
       "    }\n",
       "\n",
       "    .dataframe thead th {\n",
       "        text-align: right;\n",
       "    }\n",
       "</style>\n",
       "<table border=\"1\" class=\"dataframe\">\n",
       "  <thead>\n",
       "    <tr style=\"text-align: right;\">\n",
       "      <th></th>\n",
       "      <th>Text</th>\n",
       "      <th>Story</th>\n",
       "    </tr>\n",
       "  </thead>\n",
       "  <tbody>\n",
       "    <tr>\n",
       "      <th>0</th>\n",
       "      <td>(Who, 's, there, ?)</td>\n",
       "      <td>Hamlet</td>\n",
       "    </tr>\n",
       "    <tr>\n",
       "      <th>1</th>\n",
       "      <td>(Nay, ,, answer, me, .)</td>\n",
       "      <td>Hamlet</td>\n",
       "    </tr>\n",
       "    <tr>\n",
       "      <th>2</th>\n",
       "      <td>(Stand, and, unfold, yourself, .)</td>\n",
       "      <td>Hamlet</td>\n",
       "    </tr>\n",
       "    <tr>\n",
       "      <th>3</th>\n",
       "      <td>(Long, live, the, King, !)</td>\n",
       "      <td>Hamlet</td>\n",
       "    </tr>\n",
       "    <tr>\n",
       "      <th>4</th>\n",
       "      <td>(Barnardo, .)</td>\n",
       "      <td>Hamlet</td>\n",
       "    </tr>\n",
       "  </tbody>\n",
       "</table>\n",
       "</div>"
      ],
      "text/plain": [
       "                                Text   Story\n",
       "0                (Who, 's, there, ?)  Hamlet\n",
       "1            (Nay, ,, answer, me, .)  Hamlet\n",
       "2  (Stand, and, unfold, yourself, .)  Hamlet\n",
       "3         (Long, live, the, King, !)  Hamlet\n",
       "4                      (Barnardo, .)  Hamlet"
      ]
     },
     "execution_count": 12,
     "metadata": {},
     "output_type": "execute_result"
    }
   ],
   "source": [
    "# Group into sentences.\n",
    "ham_sents = clean_works['Hamlet']\n",
    "ric_sents = clean_works['Richard III']\n",
    "col_sents = clean_works['Coriolanus']\n",
    "cym_sents = clean_works['Cymbeline']\n",
    "oth_sents = clean_works['Othello']\n",
    "kin_sents = clean_works['King Lear']\n",
    "hen_sents = clean_works['Henry V']\n",
    "tro_sents = clean_works['Troilus and Cressida']\n",
    "hiv_sents = clean_works['Henry IV, Part II']\n",
    "hvi_sents = clean_works['Henry VI, Part II']\n",
    "\n",
    "ham_sents = [[sent, 'Hamlet'] for sent in ham_sents.sents]\n",
    "ric_sents = [[sent, 'Richard III'] for sent in ric_sents.sents]\n",
    "col_sents = [[sent, 'Coriolanus'] for sent in col_sents.sents]\n",
    "cym_sents = [[sent, 'Cymbeline'] for sent in cym_sents.sents]\n",
    "oth_sents = [[sent, 'Othello'] for sent in oth_sents.sents]\n",
    "kin_sents = [[sent, 'King Lear'] for sent in kin_sents.sents]\n",
    "hen_sents = [[sent, 'Henry V'] for sent in hen_sents.sents]\n",
    "tro_sents = [[sent, 'Troilus and Cressida'] for sent in tro_sents.sents]\n",
    "hiv_sents = [[sent, 'Henry IV, Part II'] for sent in hiv_sents.sents]\n",
    "hvi_sents = [[sent, 'Henry VI, Part II'] for sent in hvi_sents.sents]\n",
    "\n",
    "# Combine the sentences from the two novels into one data frame.\n",
    "sent_group = ham_sents + ric_sents + col_sents + cym_sents + oth_sents + kin_sents + hen_sents + tro_sents + hiv_sents + hvi_sents\n",
    "sent_df = pd.DataFrame(sent_group, columns=['Text', 'Story'])\n",
    "\n",
    "sent_df.head()"
   ]
  },
  {
   "cell_type": "markdown",
   "metadata": {},
   "source": [
    "# Creating Paragraph Dataset\n",
    "This dataset will be used for all further testing and only needs to be ran once. Since the resulting dataframe will be saved as a CSV file."
   ]
  },
  {
   "cell_type": "code",
   "execution_count": 13,
   "metadata": {},
   "outputs": [
    {
     "data": {
      "text/html": [
       "<div>\n",
       "<style scoped>\n",
       "    .dataframe tbody tr th:only-of-type {\n",
       "        vertical-align: middle;\n",
       "    }\n",
       "\n",
       "    .dataframe tbody tr th {\n",
       "        vertical-align: top;\n",
       "    }\n",
       "\n",
       "    .dataframe thead th {\n",
       "        text-align: right;\n",
       "    }\n",
       "</style>\n",
       "<table border=\"1\" class=\"dataframe\">\n",
       "  <thead>\n",
       "    <tr style=\"text-align: right;\">\n",
       "      <th></th>\n",
       "      <th>Text</th>\n",
       "      <th>Story</th>\n",
       "    </tr>\n",
       "  </thead>\n",
       "  <tbody>\n",
       "    <tr>\n",
       "      <th>0</th>\n",
       "      <td>[Who's there?, Nay, answer me., Stand and unfo...</td>\n",
       "      <td>Hamlet</td>\n",
       "    </tr>\n",
       "    <tr>\n",
       "      <th>0</th>\n",
       "      <td>[Tis bitter cold, And am sick at heart., Have ...</td>\n",
       "      <td>Hamlet</td>\n",
       "    </tr>\n",
       "    <tr>\n",
       "      <th>0</th>\n",
       "      <td>[Give you good night., farewell, honest soldie...</td>\n",
       "      <td>Hamlet</td>\n",
       "    </tr>\n",
       "    <tr>\n",
       "      <th>0</th>\n",
       "      <td>[What, has this thing appeared again tonight?,...</td>\n",
       "      <td>Hamlet</td>\n",
       "    </tr>\n",
       "    <tr>\n",
       "      <th>0</th>\n",
       "      <td>[Look where it comes again., In the same figur...</td>\n",
       "      <td>Hamlet</td>\n",
       "    </tr>\n",
       "    <tr>\n",
       "      <th>0</th>\n",
       "      <td>[What art thou that usurp'st this time of nigh...</td>\n",
       "      <td>Hamlet</td>\n",
       "    </tr>\n",
       "    <tr>\n",
       "      <th>0</th>\n",
       "      <td>[Is it not like the King?, As thou art to thys...</td>\n",
       "      <td>Hamlet</td>\n",
       "    </tr>\n",
       "    <tr>\n",
       "      <th>0</th>\n",
       "      <td>[What might be toward that this sweaty haste D...</td>\n",
       "      <td>Hamlet</td>\n",
       "    </tr>\n",
       "    <tr>\n",
       "      <th>0</th>\n",
       "      <td>[think it be no other but e'en, so., Well may ...</td>\n",
       "      <td>Hamlet</td>\n",
       "    </tr>\n",
       "    <tr>\n",
       "      <th>0</th>\n",
       "      <td>[Stay, illusion!, If thou hast any sound or us...</td>\n",
       "      <td>Hamlet</td>\n",
       "    </tr>\n",
       "  </tbody>\n",
       "</table>\n",
       "</div>"
      ],
      "text/plain": [
       "                                                Text   Story\n",
       "0  [Who's there?, Nay, answer me., Stand and unfo...  Hamlet\n",
       "0  [Tis bitter cold, And am sick at heart., Have ...  Hamlet\n",
       "0  [Give you good night., farewell, honest soldie...  Hamlet\n",
       "0  [What, has this thing appeared again tonight?,...  Hamlet\n",
       "0  [Look where it comes again., In the same figur...  Hamlet\n",
       "0  [What art thou that usurp'st this time of nigh...  Hamlet\n",
       "0  [Is it not like the King?, As thou art to thys...  Hamlet\n",
       "0  [What might be toward that this sweaty haste D...  Hamlet\n",
       "0  [think it be no other but e'en, so., Well may ...  Hamlet\n",
       "0  [Stay, illusion!, If thou hast any sound or us...  Hamlet"
      ]
     },
     "execution_count": 13,
     "metadata": {},
     "output_type": "execute_result"
    }
   ],
   "source": [
    "def sampled_dataframe(df, n_samples, n_selections, row_values):\n",
    "    '''\n",
    "    A function for creating a data frame that combines sentences\n",
    "    into paragraphs.\n",
    "    '''\n",
    "    sampled_df = pd.DataFrame(columns=['Text', 'Story'])\n",
    "    \n",
    "    for val in row_values:\n",
    "        temp_df = df.loc[df['Story'] == val].reset_index(drop=True)\n",
    "        word_pool = []\n",
    "        \n",
    "        for i in range(n_samples):\n",
    "            word_pool.append(temp_df.iloc[i,0])\n",
    "            if (i+1) % n_selections == 0:\n",
    "                word_pool = ''.join(str(word_pool))\n",
    "                samples = {'Text': [word_pool], 'Story': [val]}\n",
    "                samples = pd.DataFrame(data=samples)\n",
    "                sampled_df = sampled_df.append(samples)\n",
    "                word_pool = []\n",
    "                \n",
    "    return sampled_df\n",
    "\n",
    "\n",
    "row_values = ['Hamlet', 'Richard III', 'Coriolanus', 'Cymbeline', 'Othello', 'King Lear',\n",
    "              'Troilus and Cressida', 'Henry IV, Part II', 'Henry VI, Part II', 'Henry V']\n",
    "n_samples = 1800\n",
    "n_selections = 10\n",
    "w2v_df = sampled_dataframe(sent_df, 1800, n_selections, row_values)\n",
    "w2v_df.to_csv(r'G:\\\\projects\\\\thinkful\\\\csv\\\\shake_paragraphs.csv',index=False)\n",
    "w2v_df.head(10)"
   ]
  },
  {
   "cell_type": "markdown",
   "metadata": {},
   "source": [
    "# Testing TF-IDF Models"
   ]
  },
  {
   "cell_type": "code",
   "execution_count": 9,
   "metadata": {},
   "outputs": [
    {
     "name": "stdout",
     "output_type": "stream",
     "text": [
      "Dataframe shape (1800, 2)\n"
     ]
    },
    {
     "data": {
      "text/html": [
       "<div>\n",
       "<style scoped>\n",
       "    .dataframe tbody tr th:only-of-type {\n",
       "        vertical-align: middle;\n",
       "    }\n",
       "\n",
       "    .dataframe tbody tr th {\n",
       "        vertical-align: top;\n",
       "    }\n",
       "\n",
       "    .dataframe thead th {\n",
       "        text-align: right;\n",
       "    }\n",
       "</style>\n",
       "<table border=\"1\" class=\"dataframe\">\n",
       "  <thead>\n",
       "    <tr style=\"text-align: right;\">\n",
       "      <th></th>\n",
       "      <th>Text</th>\n",
       "      <th>Story</th>\n",
       "    </tr>\n",
       "  </thead>\n",
       "  <tbody>\n",
       "    <tr>\n",
       "      <th>0</th>\n",
       "      <td>[Who's there?, Nay, answer me., Stand and unfo...</td>\n",
       "      <td>Hamlet</td>\n",
       "    </tr>\n",
       "    <tr>\n",
       "      <th>1</th>\n",
       "      <td>[Tis bitter cold, And am sick at heart., Have ...</td>\n",
       "      <td>Hamlet</td>\n",
       "    </tr>\n",
       "    <tr>\n",
       "      <th>2</th>\n",
       "      <td>[Give you good night., farewell, honest soldie...</td>\n",
       "      <td>Hamlet</td>\n",
       "    </tr>\n",
       "    <tr>\n",
       "      <th>3</th>\n",
       "      <td>[What, has this thing appeared again tonight?,...</td>\n",
       "      <td>Hamlet</td>\n",
       "    </tr>\n",
       "    <tr>\n",
       "      <th>4</th>\n",
       "      <td>[Look where it comes again., In the same figur...</td>\n",
       "      <td>Hamlet</td>\n",
       "    </tr>\n",
       "  </tbody>\n",
       "</table>\n",
       "</div>"
      ],
      "text/plain": [
       "                                                Text   Story\n",
       "0  [Who's there?, Nay, answer me., Stand and unfo...  Hamlet\n",
       "1  [Tis bitter cold, And am sick at heart., Have ...  Hamlet\n",
       "2  [Give you good night., farewell, honest soldie...  Hamlet\n",
       "3  [What, has this thing appeared again tonight?,...  Hamlet\n",
       "4  [Look where it comes again., In the same figur...  Hamlet"
      ]
     },
     "execution_count": 9,
     "metadata": {},
     "output_type": "execute_result"
    }
   ],
   "source": [
    "from sklearn.model_selection import train_test_split\n",
    "from sklearn.feature_extraction.text import TfidfVectorizer\n",
    "\n",
    "\n",
    "# Loading the dataframe\n",
    "pdf = pd.read_csv('G:\\\\projects\\\\thinkful\\\\csv\\\\shake_paragraphs.csv')\n",
    "\n",
    "vectorizer = TfidfVectorizer()\n",
    "\n",
    "\n",
    "X = vectorizer.fit_transform(pdf['Text']).toarray()\n",
    "X_reg = pdf['Text']\n",
    "y = pdf['Story']\n",
    "\n",
    "X_train, X_test, y_train, y_test = train_test_split(X, y, test_size=0.25, random_state=0)\n",
    "\n",
    "X_train_reg, X_test_reg, y_train_reg, y_tes_regt = train_test_split(X_reg, y, test_size=0.25, random_state=0)\n",
    "\n",
    "print(f'Dataframe shape {pdf.shape}')\n",
    "pdf.head()"
   ]
  },
  {
   "cell_type": "markdown",
   "metadata": {},
   "source": [
    "### Checking on the vectorization."
   ]
  },
  {
   "cell_type": "code",
   "execution_count": 31,
   "metadata": {},
   "outputs": [
    {
     "name": "stdout",
     "output_type": "stream",
     "text": [
      "After applying TF-IDF 13321 features were created\n",
      "\n"
     ]
    }
   ],
   "source": [
    "print(f'After applying TF-IDF {X.shape[1]} features were created\\n')"
   ]
  },
  {
   "cell_type": "markdown",
   "metadata": {},
   "source": [
    "# Supervised Classification Models Utilizing TF-IDF\n",
    "\n",
    "### Logistic Regression"
   ]
  },
  {
   "cell_type": "code",
   "execution_count": 19,
   "metadata": {},
   "outputs": [
    {
     "name": "stdout",
     "output_type": "stream",
     "text": [
      "Lasso Score: 0.7533333333333333\n"
     ]
    }
   ],
   "source": [
    "from sklearn.linear_model import LogisticRegression\n",
    "\n",
    "log_reg = LogisticRegression(random_state=0, solver='lbfgs', multi_class='multinomial', n_jobs=-1).fit(X_train, y_train)\n",
    "log_pred = log_reg.predict(X_test)\n",
    "print(f'Lasso Score: {log_reg.score(X_test, y_test)}')"
   ]
  },
  {
   "cell_type": "markdown",
   "metadata": {},
   "source": [
    "### Grid Search Random Forest"
   ]
  },
  {
   "cell_type": "code",
   "execution_count": 20,
   "metadata": {},
   "outputs": [
    {
     "name": "stdout",
     "output_type": "stream",
     "text": [
      "RandomForestClassifier(bootstrap=True, class_weight=None, criterion='gini',\n",
      "            max_depth=8, max_features='sqrt', max_leaf_nodes=None,\n",
      "            min_impurity_decrease=0.0, min_impurity_split=None,\n",
      "            min_samples_leaf=1, min_samples_split=2,\n",
      "            min_weight_fraction_leaf=0.0, n_estimators=500, n_jobs=None,\n",
      "            oob_score=False, random_state=32, verbose=0, warm_start=False)\n"
     ]
    }
   ],
   "source": [
    "from sklearn.ensemble import RandomForestClassifier\n",
    "from sklearn.model_selection import GridSearchCV\n",
    "\n",
    "params = { \n",
    "    'n_estimators': [100, 200, 500],\n",
    "    'max_features': ['sqrt', 'log2'],\n",
    "    'max_depth' : [4,6,8],\n",
    "    'criterion' :['gini', 'entropy']\n",
    "}\n",
    "\n",
    "rfc = RandomForestClassifier(random_state=32)\n",
    "cv_rfc = GridSearchCV(estimator=rfc, param_grid=params, cv=5, iid=False, n_jobs=-1)\n",
    "cv_rfc.fit(X_train, y_train)\n",
    "print(cv_rfc.best_estimator_)"
   ]
  },
  {
   "cell_type": "markdown",
   "metadata": {},
   "source": [
    "### Training Strongest Random Forest Iteration"
   ]
  },
  {
   "cell_type": "code",
   "execution_count": 21,
   "metadata": {},
   "outputs": [
    {
     "name": "stdout",
     "output_type": "stream",
     "text": [
      "Grid Search CV Random Forest Score: 0.7533333333333333\n"
     ]
    }
   ],
   "source": [
    "best_rfc = cv_rfc.best_estimator_\n",
    "best_rfc.fit(X_train, y_train)\n",
    "rfc_pred = best_rfc.predict(X_test)\n",
    "print(f'Grid Search CV Random Forest Score: {best_rfc.score(X_test, y_test)}')"
   ]
  },
  {
   "cell_type": "markdown",
   "metadata": {},
   "source": [
    "### Support Vector Machine Using a Linear Kernel"
   ]
  },
  {
   "cell_type": "code",
   "execution_count": 22,
   "metadata": {},
   "outputs": [
    {
     "name": "stdout",
     "output_type": "stream",
     "text": [
      "Support Vector Machine Score: 0.7311111111111112\n"
     ]
    }
   ],
   "source": [
    "from sklearn.svm import SVC\n",
    "\n",
    "svm = SVC(gamma='auto', kernel='linear', max_iter=-1, tol=1).fit(X_train, y_train)\n",
    "svm_pred = svm.predict(X_test)\n",
    "print(f'Support Vector Machine Score: {svm.score(X_test, y_test)}')"
   ]
  },
  {
   "cell_type": "markdown",
   "metadata": {},
   "source": [
    "# Graphing Results"
   ]
  },
  {
   "cell_type": "code",
   "execution_count": 23,
   "metadata": {},
   "outputs": [
    {
     "data": {
      "image/png": "[encoded data removed]",
      "text/plain": [
       "<Figure size 864x576 with 1 Axes>"
      ]
     },
     "metadata": {
      "needs_background": "light"
     },
     "output_type": "display_data"
    }
   ],
   "source": [
    "plt.figure(figsize=(12, 8))\n",
    "log_df_true = pd.DataFrame({'Author': y_test, 'Type': 'Actual'})\n",
    "log_df_pred = pd.DataFrame({'Author': log_pred, 'Type': 'Logistic Regression'})\n",
    "gbm_df_pred = pd.DataFrame({'Author': rfc_pred, 'Type': 'Random Forest'})\n",
    "svm_df_pred = pd.DataFrame({'Author': svm_pred, 'Type': 'Support Vector Machine'})\n",
    "log_df = pd.concat([log_df_true, log_df_pred, gbm_df_pred, svm_df_pred,])\n",
    "\n",
    "sns.countplot(x=log_df['Author'].astype('category'), hue=log_df['Type'].astype('category'))\n",
    "plt.show()"
   ]
  },
  {
   "cell_type": "markdown",
   "metadata": {},
   "source": [
    "# Conclusion\n",
    "All 3 models scored close to 75% however only the Support Vector Machine showed somewhat confident results in actual text classification. The support vector machine had the highest highs but fell short in Richard III and Troilus and Cressida where no models seemed to do exceptionally well. Another interesting point to note is the random forest model scored 75% yet performed horribly on every text. Except for Coriolanus where it was the strongest model."
   ]
  },
  {
   "cell_type": "markdown",
   "metadata": {},
   "source": [
    "# Clustering with TF-IDF"
   ]
  },
  {
   "cell_type": "code",
   "execution_count": 14,
   "metadata": {},
   "outputs": [
    {
     "name": "stdout",
     "output_type": "stream",
     "text": [
      "Silhouette Score: 0.005219146424782931\n",
      "\n"
     ]
    },
    {
     "data": {
      "text/html": [
       "<div>\n",
       "<style scoped>\n",
       "    .dataframe tbody tr th:only-of-type {\n",
       "        vertical-align: middle;\n",
       "    }\n",
       "\n",
       "    .dataframe tbody tr th {\n",
       "        vertical-align: top;\n",
       "    }\n",
       "\n",
       "    .dataframe thead th {\n",
       "        text-align: right;\n",
       "    }\n",
       "</style>\n",
       "<table border=\"1\" class=\"dataframe\">\n",
       "  <thead>\n",
       "    <tr style=\"text-align: right;\">\n",
       "      <th>col_0</th>\n",
       "      <th>0</th>\n",
       "      <th>1</th>\n",
       "      <th>2</th>\n",
       "      <th>3</th>\n",
       "      <th>4</th>\n",
       "      <th>5</th>\n",
       "      <th>6</th>\n",
       "      <th>7</th>\n",
       "      <th>8</th>\n",
       "      <th>9</th>\n",
       "    </tr>\n",
       "    <tr>\n",
       "      <th>Story</th>\n",
       "      <th></th>\n",
       "      <th></th>\n",
       "      <th></th>\n",
       "      <th></th>\n",
       "      <th></th>\n",
       "      <th></th>\n",
       "      <th></th>\n",
       "      <th></th>\n",
       "      <th></th>\n",
       "      <th></th>\n",
       "    </tr>\n",
       "  </thead>\n",
       "  <tbody>\n",
       "    <tr>\n",
       "      <th>Coriolanus</th>\n",
       "      <td>0</td>\n",
       "      <td>8</td>\n",
       "      <td>37</td>\n",
       "      <td>52</td>\n",
       "      <td>2</td>\n",
       "      <td>51</td>\n",
       "      <td>16</td>\n",
       "      <td>8</td>\n",
       "      <td>1</td>\n",
       "      <td>5</td>\n",
       "    </tr>\n",
       "    <tr>\n",
       "      <th>Cymbeline</th>\n",
       "      <td>0</td>\n",
       "      <td>16</td>\n",
       "      <td>16</td>\n",
       "      <td>25</td>\n",
       "      <td>23</td>\n",
       "      <td>23</td>\n",
       "      <td>23</td>\n",
       "      <td>14</td>\n",
       "      <td>22</td>\n",
       "      <td>18</td>\n",
       "    </tr>\n",
       "    <tr>\n",
       "      <th>Hamlet</th>\n",
       "      <td>0</td>\n",
       "      <td>10</td>\n",
       "      <td>23</td>\n",
       "      <td>26</td>\n",
       "      <td>11</td>\n",
       "      <td>18</td>\n",
       "      <td>41</td>\n",
       "      <td>6</td>\n",
       "      <td>4</td>\n",
       "      <td>41</td>\n",
       "    </tr>\n",
       "    <tr>\n",
       "      <th>Henry IV, Part II</th>\n",
       "      <td>0</td>\n",
       "      <td>22</td>\n",
       "      <td>11</td>\n",
       "      <td>39</td>\n",
       "      <td>1</td>\n",
       "      <td>34</td>\n",
       "      <td>42</td>\n",
       "      <td>4</td>\n",
       "      <td>2</td>\n",
       "      <td>25</td>\n",
       "    </tr>\n",
       "    <tr>\n",
       "      <th>Henry V</th>\n",
       "      <td>15</td>\n",
       "      <td>10</td>\n",
       "      <td>37</td>\n",
       "      <td>11</td>\n",
       "      <td>5</td>\n",
       "      <td>19</td>\n",
       "      <td>60</td>\n",
       "      <td>6</td>\n",
       "      <td>0</td>\n",
       "      <td>17</td>\n",
       "    </tr>\n",
       "    <tr>\n",
       "      <th>Henry VI, Part II</th>\n",
       "      <td>0</td>\n",
       "      <td>22</td>\n",
       "      <td>5</td>\n",
       "      <td>4</td>\n",
       "      <td>8</td>\n",
       "      <td>15</td>\n",
       "      <td>70</td>\n",
       "      <td>16</td>\n",
       "      <td>3</td>\n",
       "      <td>37</td>\n",
       "    </tr>\n",
       "    <tr>\n",
       "      <th>King Lear</th>\n",
       "      <td>0</td>\n",
       "      <td>36</td>\n",
       "      <td>13</td>\n",
       "      <td>29</td>\n",
       "      <td>15</td>\n",
       "      <td>19</td>\n",
       "      <td>18</td>\n",
       "      <td>10</td>\n",
       "      <td>10</td>\n",
       "      <td>30</td>\n",
       "    </tr>\n",
       "    <tr>\n",
       "      <th>Othello</th>\n",
       "      <td>0</td>\n",
       "      <td>9</td>\n",
       "      <td>5</td>\n",
       "      <td>32</td>\n",
       "      <td>27</td>\n",
       "      <td>30</td>\n",
       "      <td>22</td>\n",
       "      <td>7</td>\n",
       "      <td>26</td>\n",
       "      <td>22</td>\n",
       "    </tr>\n",
       "    <tr>\n",
       "      <th>Richard III</th>\n",
       "      <td>0</td>\n",
       "      <td>17</td>\n",
       "      <td>15</td>\n",
       "      <td>6</td>\n",
       "      <td>6</td>\n",
       "      <td>14</td>\n",
       "      <td>35</td>\n",
       "      <td>21</td>\n",
       "      <td>7</td>\n",
       "      <td>59</td>\n",
       "    </tr>\n",
       "    <tr>\n",
       "      <th>Troilus and Cressida</th>\n",
       "      <td>0</td>\n",
       "      <td>11</td>\n",
       "      <td>20</td>\n",
       "      <td>27</td>\n",
       "      <td>13</td>\n",
       "      <td>47</td>\n",
       "      <td>31</td>\n",
       "      <td>4</td>\n",
       "      <td>11</td>\n",
       "      <td>16</td>\n",
       "    </tr>\n",
       "  </tbody>\n",
       "</table>\n",
       "</div>"
      ],
      "text/plain": [
       "col_0                  0   1   2   3   4   5   6   7   8   9\n",
       "Story                                                       \n",
       "Coriolanus             0   8  37  52   2  51  16   8   1   5\n",
       "Cymbeline              0  16  16  25  23  23  23  14  22  18\n",
       "Hamlet                 0  10  23  26  11  18  41   6   4  41\n",
       "Henry IV, Part II      0  22  11  39   1  34  42   4   2  25\n",
       "Henry V               15  10  37  11   5  19  60   6   0  17\n",
       "Henry VI, Part II      0  22   5   4   8  15  70  16   3  37\n",
       "King Lear              0  36  13  29  15  19  18  10  10  30\n",
       "Othello                0   9   5  32  27  30  22   7  26  22\n",
       "Richard III            0  17  15   6   6  14  35  21   7  59\n",
       "Troilus and Cressida   0  11  20  27  13  47  31   4  11  16"
      ]
     },
     "execution_count": 14,
     "metadata": {},
     "output_type": "execute_result"
    }
   ],
   "source": [
    "from sklearn.cluster import KMeans\n",
    "from sklearn import metrics\n",
    "\n",
    "kmeans = KMeans(n_clusters=10, n_jobs=-1).fit(X)\n",
    "kpred = kmeans.predict(X)\n",
    "labels = kmeans.labels_ \n",
    "\n",
    "sil_score = metrics.silhouette_score(X, labels, metric='euclidean')\n",
    "\n",
    "print(f'Silhouette Score: {sil_score}\\n')\n",
    "pd.crosstab(y, kpred)"
   ]
  },
  {
   "cell_type": "markdown",
   "metadata": {},
   "source": [
    "The silhouette score being so close to 0 means that many of the clusters are overlapping. It seems that we would not be able to assure a high accuracy in predictions by using clusters."
   ]
  },
  {
   "cell_type": "markdown",
   "metadata": {},
   "source": [
    "### Graphing Clusters = 10"
   ]
  },
  {
   "cell_type": "code",
   "execution_count": 30,
   "metadata": {},
   "outputs": [
    {
     "data": {
      "image/png": "[encoded data removed]",
      "text/plain": [
       "<Figure size 1152x576 with 1 Axes>"
      ]
     },
     "metadata": {
      "needs_background": "light"
     },
     "output_type": "display_data"
    }
   ],
   "source": [
    "plt.figure(figsize=(16, 8))\n",
    "sns.countplot(x=kpred, hue=y)\n",
    "plt.legend(loc='upper left')\n",
    "plt.show()"
   ]
  },
  {
   "cell_type": "markdown",
   "metadata": {},
   "source": [
    "### Graphing Clusters = 8"
   ]
  },
  {
   "cell_type": "code",
   "execution_count": 34,
   "metadata": {},
   "outputs": [
    {
     "name": "stdout",
     "output_type": "stream",
     "text": [
      "Silhouette Score: 0.005219146424782931\n",
      "\n"
     ]
    }
   ],
   "source": [
    "kmeans_8 = KMeans(n_clusters=8, n_jobs=-1).fit(X)\n",
    "kpred_8 = kmeans_8.predict(X)\n",
    "labels_8 = kmeans_8.labels_ \n",
    "\n",
    "sil_score_8 = metrics.silhouette_score(X, labels, metric='euclidean')\n",
    "\n",
    "print(f'Silhouette Score: {sil_score_8}\\n')"
   ]
  },
  {
   "cell_type": "code",
   "execution_count": 35,
   "metadata": {},
   "outputs": [
    {
     "data": {
      "image/png": "[encoded data removed]",
      "text/plain": [
       "<Figure size 1152x576 with 1 Axes>"
      ]
     },
     "metadata": {
      "needs_background": "light"
     },
     "output_type": "display_data"
    }
   ],
   "source": [
    "plt.figure(figsize=(16, 8))\n",
    "sns.countplot(x=kpred_8, hue=y)\n",
    "plt.legend(loc='upper left')\n",
    "plt.show()"
   ]
  },
  {
   "cell_type": "markdown",
   "metadata": {},
   "source": [
    "### Clusters = 6"
   ]
  },
  {
   "cell_type": "code",
   "execution_count": 40,
   "metadata": {},
   "outputs": [
    {
     "name": "stdout",
     "output_type": "stream",
     "text": [
      "Silhouette Score: 0.005219146424782931\n",
      "\n"
     ]
    }
   ],
   "source": [
    "kmeans_6 = KMeans(n_clusters=6, n_jobs=-1).fit(X)\n",
    "kpred_6 = kmeans_6.predict(X)\n",
    "labels_6 = kmeans_6.labels_ \n",
    "\n",
    "sil_score_6 = metrics.silhouette_score(X, labels, metric='euclidean')\n",
    "\n",
    "print(f'Silhouette Score: {sil_score_6}\\n')"
   ]
  },
  {
   "cell_type": "code",
   "execution_count": 41,
   "metadata": {},
   "outputs": [
    {
     "data": {
      "image/png": "[encoded data removed]",
      "text/plain": [
       "<Figure size 1152x576 with 1 Axes>"
      ]
     },
     "metadata": {
      "needs_background": "light"
     },
     "output_type": "display_data"
    }
   ],
   "source": [
    "plt.figure(figsize=(16, 8))\n",
    "sns.countplot(x=kpred_6, hue=y)\n",
    "plt.legend(loc='upper left')\n",
    "plt.show()"
   ]
  },
  {
   "cell_type": "markdown",
   "metadata": {},
   "source": [
    "### Clusters = 12"
   ]
  },
  {
   "cell_type": "code",
   "execution_count": 42,
   "metadata": {},
   "outputs": [
    {
     "name": "stdout",
     "output_type": "stream",
     "text": [
      "Silhouette Score: 0.005219146424782931\n",
      "\n"
     ]
    }
   ],
   "source": [
    "kmeans_12 = KMeans(n_clusters=12, n_jobs=-1).fit(X)\n",
    "kpred_12 = kmeans_12.predict(X)\n",
    "labels_12 = kmeans_12.labels_ \n",
    "\n",
    "sil_score_12 = metrics.silhouette_score(X, labels, metric='euclidean')\n",
    "\n",
    "print(f'Silhouette Score: {sil_score_12}\\n')"
   ]
  },
  {
   "cell_type": "code",
   "execution_count": 43,
   "metadata": {},
   "outputs": [
    {
     "data": {
      "image/png": "[encoded data removed]",
      "text/plain": [
       "<Figure size 1152x576 with 1 Axes>"
      ]
     },
     "metadata": {
      "needs_background": "light"
     },
     "output_type": "display_data"
    }
   ],
   "source": [
    "plt.figure(figsize=(16, 8))\n",
    "sns.countplot(x=kpred_12, hue=y)\n",
    "plt.legend(loc='upper left')\n",
    "plt.show()"
   ]
  },
  {
   "cell_type": "markdown",
   "metadata": {},
   "source": [
    "Overall clustering seems fairly ineffective. Testing various cluster sizes didn't yield any more positive results. Even though cluster 6 has many results from Henry VI, Part II it contains a lot of noise. It would be difficult to correctly label any text on a consistent basis with any of these clusters. Unless it's cluster 0 that contains only text from Henry V."
   ]
  },
  {
   "cell_type": "markdown",
   "metadata": {},
   "source": [
    "# LSA - Exploring Similarity"
   ]
  },
  {
   "cell_type": "code",
   "execution_count": 46,
   "metadata": {},
   "outputs": [
    {
     "name": "stdout",
     "output_type": "stream",
     "text": [
      "Percent variance captured by all components:  82.44565700832827\n"
     ]
    }
   ],
   "source": [
    "from sklearn.decomposition import TruncatedSVD\n",
    "from sklearn.pipeline import make_pipeline\n",
    "from sklearn.preprocessing import Normalizer\n",
    "\n",
    "svd = TruncatedSVD(800)\n",
    "lsa = make_pipeline(svd, Normalizer(copy=False))\n",
    "\n",
    "X_train_lsa = lsa.fit_transform(X_train)\n",
    "\n",
    "variance_explained = svd.explained_variance_ratio_\n",
    "total_variance = variance_explained.sum()\n",
    "print(\"Percent variance captured by all components: \", total_variance*100)"
   ]
  },
  {
   "cell_type": "markdown",
   "metadata": {},
   "source": [
    "### Below we'll see what paragraphs the model considers to be most similar."
   ]
  },
  {
   "cell_type": "code",
   "execution_count": 47,
   "metadata": {},
   "outputs": [
    {
     "name": "stdout",
     "output_type": "stream",
     "text": [
      "Text\n",
      "[Nor by th' matter which your heart prompts you,, But with such words that are but roted in Your tongue, though but bastards and syllables Of no allowance to your bosom's truth., Now, this no more dishonors you at all Than to take in a town with gentle words, Which else would put you to your fortune and The hazard of much blood. would dissemble with my nature where My fortunes and my friends at stake required should do so in honor., am in this Your wife, your son, these senators, the nobles; And you will rather show our general louts How you can frown than spend a fawn upon 'em For the inheritance of their loves and safeguard Of what that want might ruin., Noble lady!, Come, go with us; speak fair., You may salve so, Not what is dangerous present, but the loss Of what is past., prithee now, my son, Go to them with this bonnet in thy hand, And thus far having stretched it here be with them Thy knee bussing the stones for in such business Action is eloquence, and the eyes of th' ignorant More learned than the ears waving thy head, Which often thus correcting thy stout heart, Now humble as the ripest mulberry That will not hold the handling., Or say to them Thou art their soldier and, being bred in broils, Hast not the soft way, which thou dost confess Were fit for thee to use as they to claim, In asking their good loves; but thou wilt frame Thyself, forsooth, hereafter theirs, so far As thou hast power and person., This but done Even as she speaks, why, their hearts were yours;]                        0.567235\n",
      "[God witness with me, when here came in And found no course of breath within your Majesty, How cold it struck my heart!, If do feign, , let me in my present wildness die, And never live to show th' incredulous world The noble change that have purposed., Coming to look on you, thinking you dead, And dead almost, my liege, to think you were, spake unto this crown as having sense, And thus upbraided it: \"The care on thee depending Hath fed upon the body of my father; Therefore thou best of gold art worst of gold., Other, less fine in carat, is more precious, Preserving life in med'cine potable; But thou, most fine, most honored, most renowned, Hast eat thy bearer up.\", Thus, my most royal liege, Accusing it, put it on my head To try with it, as with an enemy That had before my face murdered my father, The quarrel of a true inheritor., But if it did infect my blood with joy Or swell my thoughts to any strain of pride, If any rebel or vain spirit of mine Did with the least affection of a welcome Give entertainment to the might of it, Let God forever keep it from my head And make me as the poorest vassal is That doth with awe and terror kneel to it., my son, God put it in thy mind to take it hence, That thou mightst win the more thy father's love, Pleading so wisely in excuse of it., Come hither, Harry, sit thou by my bed And hear, think, the very latest counsel That ever shall breathe.]                                                                                                                         0.520513\n",
      "[Who spoke of love?, Who told me how the poor soul did forsake The mighty Warwick and did fight for me?, Who told me, in the field at Tewkesbury, When Oxford had me down, he rescued me, And said \"Dear brother, live, and be a king\"?, Who told me, when we both lay in the field Frozen almost to death, how he did lap me Even in his garments and did give himself, All thin and naked, to the numb-cold night?, All this from my remembrance brutish wrath Sinfully plucked, and not a man of you Had so much grace to put it in my mind., But when your carters or your waiting vassals Have done a drunken slaughter and defaced The precious image of our dear Redeemer, You straight are on your knees for pardon, pardon, And , unjustly too, must grant it you., But for my brother, not a man would speak, Nor , ungracious, speak unto myself For him, poor soul., The proudest of you all Have been beholding to him in his life, Yet none of you would once beg for his life., God, fear Thy justice will take hold On me and you, and mine and yours for this!, Come, Hastings, help me to my closet.]                                                                                                                                                                                                                                                                                                                                                                                                                                                              0.500723\n",
      "[Thou still hast been the father of good news., Have , my lord?, assure my good liege hold my duty as hold my soul, Both to my God and to my gracious king, And do think, or else this brain of mine Hunts not the trail of policy so sure As it hath used to do, that have found The very cause of Hamlet's lunacy. , speak of that!, That do long to hear., Give first admittance to th' ambassadors., My news shall be the fruit to that great feast., Thyself do grace to them and bring them in., He tells me, my dear Gertrude, he hath found The head and source of all your son's distemper., doubt it is no other but the main His father's death and our o'erhasty marriage., Well, we shall sift him.]                                                                                                                                                                                                                                                                                                                                                                                                                                                                                                                                                                                                                                                                                                                                                                                                                                                                    0.491534\n",
      "[servants, who seem no less, Which are to France the spies and speculations Intelligent of our state., From France there comes a power Into this scattered kingdom, who already, Wise in our negligence, have secret feet, In some of our best ports and are at point To show their open banner., Now to you: If on my credit you dare build so far To make your speed to Dover, you shall find Some that will thank you, making just report Of how unnatural and bemadding sorrow The King hath cause to plain: what hath been seen, Either in snuffs and packings of the dukes, Or the hard rein which both of them hath borne Against the old kind king, or something deeper, Whereof perchance these are but furnishings., am a gentleman of blood and breeding, And from some knowledge and assurance offer This office to you., will talk further with you., No, do not., For confirmation that am much more Than my outwall, open this purse and take What it contains., If you shall see Cordelia (As fear not but you shall), show her this ring, And she will tell you who that fellow is That, yet you do not know.]                                                                                                                                                                                                                                                                                                                                                                                                                                                      0.489320\n",
      "[Why \"with some little train,\" my lord of Buckingham?, Marry, my lord, lest by a multitude The new-healed wound of malice should break out, Which would be so much the more dangerous By how much the estate is green and yet ungoverned., Where every horse bears his commanding rein And may direct his course as please himself, As well the fear of harm as harm apparent, In my opinion, ought to be prevented., hope the King made peace with all of us; And the compact is firm and true in me., And so in me, and so, think, in all., Yet since it is but green, it should be put To no apparent likelihood of breach, Which haply by much company might be urged., Therefore say with noble Buckingham That it is meet so few should fetch the Prince., And so say ., Then be it so, and go we to determine Who they shall be that straight shall post to Ludlow., Madam, and you, my sister, will you go To give your censures in this business?]                                                                                                                                                                                                                                                                                                                                                                                                                                                                                                                                                                                                                          0.486120\n",
      "[, my good Lord Mowbray, Construe the times to their necessities,, And you shall say indeed it is the time, And, not the King, that doth you injuries., Yet for your part, it not appears to me, Either from the King or in the present time That you should have an inch of any ground To build a grief on., Were you not restored To all the Duke of Norfolk's seigniories, Your noble and right well remembered father's?, What thing, in honor, had my father lost That need to be revived and breathed in me?, The King that loved him, as the state stood then, Was force perforce compelled to banish him, And then that Henry Bolingbroke and he, Being mounted and both roused in their seats, Their neighing coursers daring of the spur, Their armed staves in charge, their beavers down, Their eyes of fire sparkling through sights of steel, And the loud trumpet blowing them together, Then, then, when there was nothing could have stayed My father from the breast of Bolingbroke, , when the King did throw his warder down His own life hung upon the staff he threw Then threw he down himself and all their lives That by indictment and by dint of sword Have since miscarried under Bolingbroke., You speak, Lord Mowbray, now you know not what., The Earl of Hereford was reputed then]                                                                                                                                                                                                                                                                  0.486100\n",
      "[And we understand him well, How he comes o'er us with our wilder days, Not measuring what use we made of them., We never valued this poor seat of England, And therefore, living hence, did give ourself To barbarous license, as 'tis ever common That men are merriest when they are from home., But tell the Dauphin will keep my state, Be like a king, and show my sail of greatness, When do rouse me in my throne of France, For that have laid by my majesty And plodded like a man for working days; But will rise there with so full a glory That will dazzle all the eyes of France, Yea, strike the Dauphin blind to look on us., And tell the pleasant prince this mock of his Hath turned his balls to gun-stones, and his soul Shall stand sore charged for the wasteful vengeance That shall fly with them; for many a thousand widows Shall this his mock mock out of their dear husbands, Mock mothers from their sons, mock castles down; And some are yet ungotten and unborn That shall have cause to curse the Dauphin's scorn., But this lies all within the will of God, To whom do appeal, and in whose name Tell you the Dauphin am coming on, To venge me as may and to put forth My rightful hand in a well-hallowed cause., So get you hence in peace., And tell the Dauphin His jest will savor but of shallow wit When thousands weep more than did laugh at it., Convey them with safe conduct., Fare you well.]                                                                                                                                    0.482284\n",
      "[[The Prince rises from his knees and sits near the bed.], God knows, my son, By what bypaths and indirect crook'd ways met this crown, and myself know well How troublesome it sat upon my head., To thee it shall descend with better quiet, Better opinion, better confirmation, For all the soil of the achievement goes With me into the earth., It seemed in me But as an honor snatched with boist'rous hand, And had many living to upbraid My gain of it by their assistances, Which daily grew to quarrel and to bloodshed, Wounding supposed peace., All these bold fears Thou seest with peril have answered, For all my reign hath been but as a scene Acting that argument., And now my death Changes the mood, for what in me was purchased Falls upon thee in a more fairer sort., So thou the garland wear'st successively., Yet though thou stand'st more sure than could do, Thou art not firm enough, since griefs are green, And all my friends, which thou must make thy friends, Have but their stings and teeth newly ta'en out, By whose fell working was first advanced And by whose power well might lodge a fear To be again displaced; which to avoid, cut them off and had a purpose now To lead out many to the Holy Land, Lest rest and lying still might make them look Too near unto my state., Therefore, my Harry, Be it thy course to busy giddy minds With foreign quarrels, that action, hence borne out, May waste the memory of the former days., More would , but my lungs are wasted so That strength of speech is utterly denied me.]    0.478170\n",
      "[Why, this is an arrant counterfeit rascal., remember him now, a bawd, a cutpurse., 'll assure you he uttered as prave words at the pridge as you shall see in a summer's day., But it is very well; what he has spoke to me, that is well, warrant you, when time is serve., Why, 'tis a gull, a fool, a rogue, that now and then goes to the wars to grace himself at his return into London under the form of a soldier; and such fellows are perfect in the great commanders' names, and they will learn you by rote where services were done at such and such a sconce, at such a breach, at such a convoy; who came off bravely, who was shot, who disgraced, what terms the enemy stood on; and this they con perfectly in the phrase of war, which they trick up with new-tuned oaths; and what a beard of the general's cut and a horrid suit of the camp will do among foaming bottles and ale-washed wits is wonderful to be thought on., But you must learn to know such slanders of the age, or else you may be marvelously mistook., tell you, what, Captain Gower., do perceive he is not the man that he would gladly make show to the world he is., If find a hole in his coat, will tell him my mind.]                                                                                                                                                                                                                                                                                                                                                             0.477295\n",
      "Name: 0, dtype: float64\n"
     ]
    }
   ],
   "source": [
    "paras_df = pd.DataFrame(X_train_lsa, index=X_train_reg)\n",
    "\n",
    "print(paras_df.loc[:,0].sort_values(ascending=False)[0:10])"
   ]
  },
  {
   "cell_type": "markdown",
   "metadata": {},
   "source": [
    "# Word2Vec"
   ]
  },
  {
   "cell_type": "code",
   "execution_count": 57,
   "metadata": {},
   "outputs": [
    {
     "data": {
      "text/plain": [
       "(854407, 1291800)"
      ]
     },
     "execution_count": 57,
     "metadata": {},
     "output_type": "execute_result"
    }
   ],
   "source": [
    "import gensim\n",
    "import nltk\n",
    "\n",
    "# Tokenizing text \n",
    "vec_sents = list(pdf['Text'])\n",
    "vec_sents = [nltk.word_tokenize(sent) for sent in nltk.sent_tokenize(str(vec_sents))]\n",
    "\n",
    "# Creating Word2Vec model\n",
    "w2v = gensim.models.Word2Vec(size=150, window=10, min_count=2, sg=1, workers=10)\n",
    "w2v.build_vocab(vec_sents)\n",
    "w2v.train(sentences=vec_sents, total_examples=len(vec_sents), epochs=w2v.epochs)"
   ]
  },
  {
   "cell_type": "markdown",
   "metadata": {},
   "source": [
    "### Exploring some word similarities. "
   ]
  },
  {
   "cell_type": "code",
   "execution_count": 72,
   "metadata": {},
   "outputs": [
    {
     "data": {
      "text/plain": [
       "[('lord.', 0.8820561170578003),\n",
       " ('uncle', 0.8602159023284912),\n",
       " ('cousin', 0.8567171096801758),\n",
       " ('liege', 0.8304941058158875),\n",
       " ('Good', 0.8301956653594971)]"
      ]
     },
     "execution_count": 72,
     "metadata": {},
     "output_type": "execute_result"
    }
   ],
   "source": [
    "w2v.wv.most_similar(positive='lord', topn=5)"
   ]
  },
  {
   "cell_type": "code",
   "execution_count": 74,
   "metadata": {},
   "outputs": [
    {
     "data": {
      "text/plain": [
       "[('fares', 0.9741405248641968),\n",
       " ('Horatio', 0.9630932807922363),\n",
       " ('Majesty.', 0.9577731490135193),\n",
       " ('Hamlet.', 0.9553756713867188),\n",
       " ('cousin', 0.9525052309036255)]"
      ]
     },
     "execution_count": 74,
     "metadata": {},
     "output_type": "execute_result"
    }
   ],
   "source": [
    "w2v.wv.most_similar(positive='Hamlet', topn=5)"
   ]
  },
  {
   "cell_type": "code",
   "execution_count": 79,
   "metadata": {},
   "outputs": [
    {
     "data": {
      "text/plain": [
       "[('Doth', 0.9397165775299072),\n",
       " ('double', 0.9395380020141602),\n",
       " ('traitor', 0.9395298957824707),\n",
       " ('duke', 0.9375977516174316),\n",
       " ('ambition', 0.9361156225204468)]"
      ]
     },
     "execution_count": 79,
     "metadata": {},
     "output_type": "execute_result"
    }
   ],
   "source": [
    "w2v.wv.most_similar(positive='prince', topn=5)"
   ]
  },
  {
   "cell_type": "code",
   "execution_count": 78,
   "metadata": {},
   "outputs": [
    {
     "data": {
      "text/plain": [
       "[('traitor', 0.92766934633255),\n",
       " ('prince', 0.9213409423828125),\n",
       " ('Plantagenet', 0.9203892350196838),\n",
       " ('young', 0.9130967259407043),\n",
       " ('Harry', 0.9125118851661682)]"
      ]
     },
     "execution_count": 78,
     "metadata": {},
     "output_type": "execute_result"
    }
   ],
   "source": [
    "w2v.wv.most_similar(positive='queen', topn=5)"
   ]
  },
  {
   "cell_type": "markdown",
   "metadata": {},
   "source": [
    "It's interesting to see that traitor appeared in both queen and prince. It would be interesting to see which texts contributed most to these word vector associations."
   ]
  },
  {
   "cell_type": "markdown",
   "metadata": {},
   "source": [
    "# Conclusion\n",
    "\n",
    "Overall unsupervised methods seemed to be an ineffective approach for this task. While I personally found the results very interesting there isn't a lot of weight to them in terms of classification accuracy. The supervised learning segment performed fairly well with difficult data. Had the speaking queues been left in I'm sure they would have scored even better than they did."
   ]
  }
 ],
 "metadata": {
  "kernelspec": {
   "display_name": "Python 3",
   "language": "python",
   "name": "python3"
  },
  "language_info": {
   "codemirror_mode": {
    "name": "ipython",
    "version": 3
   },
   "file_extension": ".py",
   "mimetype": "text/x-python",
   "name": "python",
   "nbconvert_exporter": "python",
   "pygments_lexer": "ipython3",
   "version": "3.6.8"
  }
 },
 "nbformat": 4,
 "nbformat_minor": 2
}

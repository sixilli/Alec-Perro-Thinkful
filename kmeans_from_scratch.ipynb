{
 "cells": [
  {
   "cell_type": "markdown",
   "metadata": {},
   "source": [
    "# K Means"
   ]
  },
  {
   "cell_type": "code",
   "execution_count": 1,
   "metadata": {},
   "outputs": [],
   "source": [
    "import numpy as np\n",
    "import scipy\n",
    "import matplotlib.pyplot as plt\n",
    "import seaborn as sns\n",
    "%matplotlib inline"
   ]
  },
  {
   "cell_type": "markdown",
   "metadata": {},
   "source": [
    "### Initializing and previewing data for testing."
   ]
  },
  {
   "cell_type": "code",
   "execution_count": 2,
   "metadata": {},
   "outputs": [
    {
     "data": {
      "image/png": "[encoded data removed]",
      "text/plain": [
       "<Figure size 432x288 with 1 Axes>"
      ]
     },
     "metadata": {
      "needs_background": "light"
     },
     "output_type": "display_data"
    }
   ],
   "source": [
    "x = np.random.randint(1, 100, 100)\n",
    "y = np.random.randint(1, 100, 100)\n",
    "\n",
    "sns.scatterplot(x=x, y=y)\n",
    "plt.show()"
   ]
  },
  {
   "cell_type": "code",
   "execution_count": 3,
   "metadata": {},
   "outputs": [],
   "source": [
    "data = np.array([x,y])"
   ]
  },
  {
   "cell_type": "code",
   "execution_count": 4,
   "metadata": {},
   "outputs": [
    {
     "name": "stdout",
     "output_type": "stream",
     "text": [
      "Initial centroids: {0: [11, 64], 1: [56, 80], 2: [87, 88], 3: [53, 54], 4: [94, 94]}\n",
      "{0: array([25.60606061, 37.54545455]), 1: array([24.04166667, 81.375     ]), 2: array([91.75 , 30.875]), 3: array([63.55555556, 19.94444444]), 4: array([68.11764706, 82.23529412])}\n"
     ]
    }
   ],
   "source": [
    "def euclidian(a, b):\n",
    "    return np.linalg.norm(a - b, axis=0)\n",
    "\n",
    "\n",
    "class KMeans():\n",
    "    def __init__(self, k):\n",
    "        self.k = k\n",
    "        self.centroids = {}\n",
    "        self.past_centroids = {}\n",
    "        self.clusters = {}\n",
    "        self.max_iter = 200\n",
    "        \n",
    "        for i in range(k):                                                                           # Initializing random centroids\n",
    "            self.centroids[i] = [np.random.randint(1, 100), np.random.randint(1, 100)]\n",
    "        \n",
    "        print(f'Initial centroids: {self.centroids}')\n",
    "        \n",
    "    def train(self, data):          \n",
    "        for i in range(self.max_iter):\n",
    "            self.classifications = {}\n",
    "\n",
    "            for k in range(self.k):\n",
    "                # Creating a dictionary to assign data points to a centroid\n",
    "                self.classifications[k] = []\n",
    "\n",
    "            for point in range(data.shape[1]):\n",
    "                # Finding distance to each centroid\n",
    "                distances = [euclidian(data[:,point], self.centroids[x]) for x in self.centroids]\n",
    "                \n",
    "                # Assigning point to closest centroid\n",
    "                closest_cent = distances.index(min(distances))          \n",
    "                \n",
    "                # Updating dictionary\n",
    "                self.classifications[closest_cent].append(data[:,point])\n",
    "\n",
    "            # Updating past centroids dictionary\n",
    "            self.past_centroids[i] = [self.centroids[i] for i in self.centroids]\n",
    "\n",
    "            # Updating centroid position\n",
    "            for centroid in self.classifications:\n",
    "                self.centroids[centroid] = np.average(self.classifications[centroid], axis=0)\n",
    "            \n",
    "                    \n",
    "                \n",
    "        \n",
    "\n",
    "kmeans = KMeans(5)\n",
    "kmeans.train(data)\n",
    "print(kmeans.centroids)"
   ]
  },
  {
   "cell_type": "markdown",
   "metadata": {},
   "source": [
    "# Visualizing Grouping"
   ]
  },
  {
   "cell_type": "code",
   "execution_count": 5,
   "metadata": {},
   "outputs": [
    {
     "data": {
      "image/png": "[encoded data removed]",
      "text/plain": [
       "<Figure size 432x288 with 1 Axes>"
      ]
     },
     "metadata": {
      "needs_background": "light"
     },
     "output_type": "display_data"
    }
   ],
   "source": [
    "for centroid in kmeans.centroids:\n",
    "    plt.scatter(kmeans.centroids[centroid][0], kmeans.centroids[centroid][1],\n",
    "                marker=\"o\", color=\"k\", s=150, linewidths=5)\n",
    "\n",
    "color = ['b', 'g', 'r', 'y', 'c']\n",
    "for i in kmeans.classifications:\n",
    "    for point in kmeans.classifications[i]:\n",
    "        plt.scatter(point[0], point[1], color=color[i], s=20)\n",
    "        \n",
    "plt.show()"
   ]
  }
 ],
 "metadata": {
  "kernelspec": {
   "display_name": "Python 3",
   "language": "python",
   "name": "python3"
  },
  "language_info": {
   "codemirror_mode": {
    "name": "ipython",
    "version": 3
   },
   "file_extension": ".py",
   "mimetype": "text/x-python",
   "name": "python",
   "nbconvert_exporter": "python",
   "pygments_lexer": "ipython3",
   "version": "3.6.8"
  }
 },
 "nbformat": 4,
 "nbformat_minor": 4
}

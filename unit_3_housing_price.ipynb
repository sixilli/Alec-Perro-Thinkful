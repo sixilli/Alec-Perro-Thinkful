{
 "cells": [
  {
   "cell_type": "markdown",
   "metadata": {},
   "source": [
    "# Predicting Housing Prices\n",
    "Data: https://www.kaggle.com/anthonypino/melbourne-housing-market\n",
    "\n",
    "Predicting the Housing prices of the Melbourne market"
   ]
  },
  {
   "cell_type": "code",
   "execution_count": 1,
   "metadata": {},
   "outputs": [],
   "source": [
    "import pandas as pd\n",
    "import numpy as np\n",
    "import scipy\n",
    "import matplotlib.pyplot as plt\n",
    "import seaborn as sns\n",
    "%matplotlib inline"
   ]
  },
  {
   "cell_type": "markdown",
   "metadata": {},
   "source": [
    "### Loading the Data"
   ]
  },
  {
   "cell_type": "code",
   "execution_count": 2,
   "metadata": {},
   "outputs": [
    {
     "name": "stdout",
     "output_type": "stream",
     "text": [
      "(34857, 21)\n",
      "Index(['Suburb', 'Address', 'Rooms', 'Type', 'Price', 'Method', 'SellerG',\n",
      "       'Date', 'Distance', 'Postcode', 'Bedroom2', 'Bathroom', 'Car',\n",
      "       'Landsize', 'BuildingArea', 'YearBuilt', 'CouncilArea', 'Lattitude',\n",
      "       'Longtitude', 'Regionname', 'Propertycount'],\n",
      "      dtype='object')\n"
     ]
    },
    {
     "data": {
      "text/html": [
       "<div>\n",
       "<style scoped>\n",
       "    .dataframe tbody tr th:only-of-type {\n",
       "        vertical-align: middle;\n",
       "    }\n",
       "\n",
       "    .dataframe tbody tr th {\n",
       "        vertical-align: top;\n",
       "    }\n",
       "\n",
       "    .dataframe thead th {\n",
       "        text-align: right;\n",
       "    }\n",
       "</style>\n",
       "<table border=\"1\" class=\"dataframe\">\n",
       "  <thead>\n",
       "    <tr style=\"text-align: right;\">\n",
       "      <th></th>\n",
       "      <th>Suburb</th>\n",
       "      <th>Address</th>\n",
       "      <th>Rooms</th>\n",
       "      <th>Type</th>\n",
       "      <th>Price</th>\n",
       "      <th>Method</th>\n",
       "      <th>SellerG</th>\n",
       "      <th>Date</th>\n",
       "      <th>Distance</th>\n",
       "      <th>Postcode</th>\n",
       "      <th>...</th>\n",
       "      <th>Bathroom</th>\n",
       "      <th>Car</th>\n",
       "      <th>Landsize</th>\n",
       "      <th>BuildingArea</th>\n",
       "      <th>YearBuilt</th>\n",
       "      <th>CouncilArea</th>\n",
       "      <th>Lattitude</th>\n",
       "      <th>Longtitude</th>\n",
       "      <th>Regionname</th>\n",
       "      <th>Propertycount</th>\n",
       "    </tr>\n",
       "  </thead>\n",
       "  <tbody>\n",
       "    <tr>\n",
       "      <th>0</th>\n",
       "      <td>Abbotsford</td>\n",
       "      <td>68 Studley St</td>\n",
       "      <td>2</td>\n",
       "      <td>h</td>\n",
       "      <td>NaN</td>\n",
       "      <td>SS</td>\n",
       "      <td>Jellis</td>\n",
       "      <td>3/09/2016</td>\n",
       "      <td>2.5</td>\n",
       "      <td>3067.0</td>\n",
       "      <td>...</td>\n",
       "      <td>1.0</td>\n",
       "      <td>1.0</td>\n",
       "      <td>126.0</td>\n",
       "      <td>NaN</td>\n",
       "      <td>NaN</td>\n",
       "      <td>Yarra City Council</td>\n",
       "      <td>-37.8014</td>\n",
       "      <td>144.9958</td>\n",
       "      <td>Northern Metropolitan</td>\n",
       "      <td>4019.0</td>\n",
       "    </tr>\n",
       "    <tr>\n",
       "      <th>1</th>\n",
       "      <td>Abbotsford</td>\n",
       "      <td>85 Turner St</td>\n",
       "      <td>2</td>\n",
       "      <td>h</td>\n",
       "      <td>1480000.0</td>\n",
       "      <td>S</td>\n",
       "      <td>Biggin</td>\n",
       "      <td>3/12/2016</td>\n",
       "      <td>2.5</td>\n",
       "      <td>3067.0</td>\n",
       "      <td>...</td>\n",
       "      <td>1.0</td>\n",
       "      <td>1.0</td>\n",
       "      <td>202.0</td>\n",
       "      <td>NaN</td>\n",
       "      <td>NaN</td>\n",
       "      <td>Yarra City Council</td>\n",
       "      <td>-37.7996</td>\n",
       "      <td>144.9984</td>\n",
       "      <td>Northern Metropolitan</td>\n",
       "      <td>4019.0</td>\n",
       "    </tr>\n",
       "    <tr>\n",
       "      <th>2</th>\n",
       "      <td>Abbotsford</td>\n",
       "      <td>25 Bloomburg St</td>\n",
       "      <td>2</td>\n",
       "      <td>h</td>\n",
       "      <td>1035000.0</td>\n",
       "      <td>S</td>\n",
       "      <td>Biggin</td>\n",
       "      <td>4/02/2016</td>\n",
       "      <td>2.5</td>\n",
       "      <td>3067.0</td>\n",
       "      <td>...</td>\n",
       "      <td>1.0</td>\n",
       "      <td>0.0</td>\n",
       "      <td>156.0</td>\n",
       "      <td>79.0</td>\n",
       "      <td>1900.0</td>\n",
       "      <td>Yarra City Council</td>\n",
       "      <td>-37.8079</td>\n",
       "      <td>144.9934</td>\n",
       "      <td>Northern Metropolitan</td>\n",
       "      <td>4019.0</td>\n",
       "    </tr>\n",
       "    <tr>\n",
       "      <th>3</th>\n",
       "      <td>Abbotsford</td>\n",
       "      <td>18/659 Victoria St</td>\n",
       "      <td>3</td>\n",
       "      <td>u</td>\n",
       "      <td>NaN</td>\n",
       "      <td>VB</td>\n",
       "      <td>Rounds</td>\n",
       "      <td>4/02/2016</td>\n",
       "      <td>2.5</td>\n",
       "      <td>3067.0</td>\n",
       "      <td>...</td>\n",
       "      <td>2.0</td>\n",
       "      <td>1.0</td>\n",
       "      <td>0.0</td>\n",
       "      <td>NaN</td>\n",
       "      <td>NaN</td>\n",
       "      <td>Yarra City Council</td>\n",
       "      <td>-37.8114</td>\n",
       "      <td>145.0116</td>\n",
       "      <td>Northern Metropolitan</td>\n",
       "      <td>4019.0</td>\n",
       "    </tr>\n",
       "    <tr>\n",
       "      <th>4</th>\n",
       "      <td>Abbotsford</td>\n",
       "      <td>5 Charles St</td>\n",
       "      <td>3</td>\n",
       "      <td>h</td>\n",
       "      <td>1465000.0</td>\n",
       "      <td>SP</td>\n",
       "      <td>Biggin</td>\n",
       "      <td>4/03/2017</td>\n",
       "      <td>2.5</td>\n",
       "      <td>3067.0</td>\n",
       "      <td>...</td>\n",
       "      <td>2.0</td>\n",
       "      <td>0.0</td>\n",
       "      <td>134.0</td>\n",
       "      <td>150.0</td>\n",
       "      <td>1900.0</td>\n",
       "      <td>Yarra City Council</td>\n",
       "      <td>-37.8093</td>\n",
       "      <td>144.9944</td>\n",
       "      <td>Northern Metropolitan</td>\n",
       "      <td>4019.0</td>\n",
       "    </tr>\n",
       "  </tbody>\n",
       "</table>\n",
       "<p>5 rows × 21 columns</p>\n",
       "</div>"
      ],
      "text/plain": [
       "       Suburb             Address  Rooms Type      Price Method SellerG  \\\n",
       "0  Abbotsford       68 Studley St      2    h        NaN     SS  Jellis   \n",
       "1  Abbotsford        85 Turner St      2    h  1480000.0      S  Biggin   \n",
       "2  Abbotsford     25 Bloomburg St      2    h  1035000.0      S  Biggin   \n",
       "3  Abbotsford  18/659 Victoria St      3    u        NaN     VB  Rounds   \n",
       "4  Abbotsford        5 Charles St      3    h  1465000.0     SP  Biggin   \n",
       "\n",
       "        Date  Distance  Postcode  ...  Bathroom  Car  Landsize  BuildingArea  \\\n",
       "0  3/09/2016       2.5    3067.0  ...       1.0  1.0     126.0           NaN   \n",
       "1  3/12/2016       2.5    3067.0  ...       1.0  1.0     202.0           NaN   \n",
       "2  4/02/2016       2.5    3067.0  ...       1.0  0.0     156.0          79.0   \n",
       "3  4/02/2016       2.5    3067.0  ...       2.0  1.0       0.0           NaN   \n",
       "4  4/03/2017       2.5    3067.0  ...       2.0  0.0     134.0         150.0   \n",
       "\n",
       "   YearBuilt         CouncilArea Lattitude  Longtitude             Regionname  \\\n",
       "0        NaN  Yarra City Council  -37.8014    144.9958  Northern Metropolitan   \n",
       "1        NaN  Yarra City Council  -37.7996    144.9984  Northern Metropolitan   \n",
       "2     1900.0  Yarra City Council  -37.8079    144.9934  Northern Metropolitan   \n",
       "3        NaN  Yarra City Council  -37.8114    145.0116  Northern Metropolitan   \n",
       "4     1900.0  Yarra City Council  -37.8093    144.9944  Northern Metropolitan   \n",
       "\n",
       "  Propertycount  \n",
       "0        4019.0  \n",
       "1        4019.0  \n",
       "2        4019.0  \n",
       "3        4019.0  \n",
       "4        4019.0  \n",
       "\n",
       "[5 rows x 21 columns]"
      ]
     },
     "execution_count": 2,
     "metadata": {},
     "output_type": "execute_result"
    }
   ],
   "source": [
    "path = 'csv/housing/Melbourne_housing_FULL.csv'\n",
    "data = pd.read_csv(path)\n",
    "df = pd.DataFrame(data)\n",
    "print(df.shape)\n",
    "print(df.columns)\n",
    "df.head()"
   ]
  },
  {
   "cell_type": "markdown",
   "metadata": {},
   "source": [
    "# General Data Cleaning"
   ]
  },
  {
   "cell_type": "code",
   "execution_count": 3,
   "metadata": {},
   "outputs": [
    {
     "data": {
      "text/plain": [
       "Suburb               0\n",
       "Address              0\n",
       "Rooms                0\n",
       "Type                 0\n",
       "Price             7610\n",
       "Method               0\n",
       "SellerG              0\n",
       "Date                 0\n",
       "Distance             1\n",
       "Postcode             1\n",
       "Bedroom2          8217\n",
       "Bathroom          8226\n",
       "Car               8728\n",
       "Landsize         11810\n",
       "BuildingArea     21115\n",
       "YearBuilt        19306\n",
       "CouncilArea          3\n",
       "Lattitude         7976\n",
       "Longtitude        7976\n",
       "Regionname           3\n",
       "Propertycount        3\n",
       "dtype: int64"
      ]
     },
     "execution_count": 3,
     "metadata": {},
     "output_type": "execute_result"
    }
   ],
   "source": [
    "df.isna().sum()"
   ]
  },
  {
   "cell_type": "code",
   "execution_count": 4,
   "metadata": {},
   "outputs": [
    {
     "data": {
      "text/plain": [
       "(20993, 12)"
      ]
     },
     "execution_count": 4,
     "metadata": {},
     "output_type": "execute_result"
    }
   ],
   "source": [
    "df = df.drop(['Bedroom2', 'Bathroom', 'Car', 'Landsize', 'BuildingArea', 'YearBuilt', 'Address', 'SellerG', 'Date'], axis=1)\n",
    "df = df.dropna()\n",
    "df.shape"
   ]
  },
  {
   "cell_type": "code",
   "execution_count": 5,
   "metadata": {},
   "outputs": [
    {
     "data": {
      "text/html": [
       "<div>\n",
       "<style scoped>\n",
       "    .dataframe tbody tr th:only-of-type {\n",
       "        vertical-align: middle;\n",
       "    }\n",
       "\n",
       "    .dataframe tbody tr th {\n",
       "        vertical-align: top;\n",
       "    }\n",
       "\n",
       "    .dataframe thead th {\n",
       "        text-align: right;\n",
       "    }\n",
       "</style>\n",
       "<table border=\"1\" class=\"dataframe\">\n",
       "  <thead>\n",
       "    <tr style=\"text-align: right;\">\n",
       "      <th></th>\n",
       "      <th>Suburb</th>\n",
       "      <th>Rooms</th>\n",
       "      <th>Type</th>\n",
       "      <th>Price</th>\n",
       "      <th>Method</th>\n",
       "      <th>Distance</th>\n",
       "      <th>Postcode</th>\n",
       "      <th>CouncilArea</th>\n",
       "      <th>Lattitude</th>\n",
       "      <th>Longtitude</th>\n",
       "      <th>Regionname</th>\n",
       "      <th>Propertycount</th>\n",
       "    </tr>\n",
       "  </thead>\n",
       "  <tbody>\n",
       "    <tr>\n",
       "      <th>1</th>\n",
       "      <td>Abbotsford</td>\n",
       "      <td>2</td>\n",
       "      <td>h</td>\n",
       "      <td>1480000.0</td>\n",
       "      <td>S</td>\n",
       "      <td>2.5</td>\n",
       "      <td>3067.0</td>\n",
       "      <td>Yarra City Council</td>\n",
       "      <td>-37.7996</td>\n",
       "      <td>144.9984</td>\n",
       "      <td>Northern Metropolitan</td>\n",
       "      <td>4019.0</td>\n",
       "    </tr>\n",
       "    <tr>\n",
       "      <th>2</th>\n",
       "      <td>Abbotsford</td>\n",
       "      <td>2</td>\n",
       "      <td>h</td>\n",
       "      <td>1035000.0</td>\n",
       "      <td>S</td>\n",
       "      <td>2.5</td>\n",
       "      <td>3067.0</td>\n",
       "      <td>Yarra City Council</td>\n",
       "      <td>-37.8079</td>\n",
       "      <td>144.9934</td>\n",
       "      <td>Northern Metropolitan</td>\n",
       "      <td>4019.0</td>\n",
       "    </tr>\n",
       "    <tr>\n",
       "      <th>4</th>\n",
       "      <td>Abbotsford</td>\n",
       "      <td>3</td>\n",
       "      <td>h</td>\n",
       "      <td>1465000.0</td>\n",
       "      <td>SP</td>\n",
       "      <td>2.5</td>\n",
       "      <td>3067.0</td>\n",
       "      <td>Yarra City Council</td>\n",
       "      <td>-37.8093</td>\n",
       "      <td>144.9944</td>\n",
       "      <td>Northern Metropolitan</td>\n",
       "      <td>4019.0</td>\n",
       "    </tr>\n",
       "    <tr>\n",
       "      <th>5</th>\n",
       "      <td>Abbotsford</td>\n",
       "      <td>3</td>\n",
       "      <td>h</td>\n",
       "      <td>850000.0</td>\n",
       "      <td>PI</td>\n",
       "      <td>2.5</td>\n",
       "      <td>3067.0</td>\n",
       "      <td>Yarra City Council</td>\n",
       "      <td>-37.7969</td>\n",
       "      <td>144.9969</td>\n",
       "      <td>Northern Metropolitan</td>\n",
       "      <td>4019.0</td>\n",
       "    </tr>\n",
       "    <tr>\n",
       "      <th>6</th>\n",
       "      <td>Abbotsford</td>\n",
       "      <td>4</td>\n",
       "      <td>h</td>\n",
       "      <td>1600000.0</td>\n",
       "      <td>VB</td>\n",
       "      <td>2.5</td>\n",
       "      <td>3067.0</td>\n",
       "      <td>Yarra City Council</td>\n",
       "      <td>-37.8072</td>\n",
       "      <td>144.9941</td>\n",
       "      <td>Northern Metropolitan</td>\n",
       "      <td>4019.0</td>\n",
       "    </tr>\n",
       "  </tbody>\n",
       "</table>\n",
       "</div>"
      ],
      "text/plain": [
       "       Suburb  Rooms Type      Price Method  Distance  Postcode  \\\n",
       "1  Abbotsford      2    h  1480000.0      S       2.5    3067.0   \n",
       "2  Abbotsford      2    h  1035000.0      S       2.5    3067.0   \n",
       "4  Abbotsford      3    h  1465000.0     SP       2.5    3067.0   \n",
       "5  Abbotsford      3    h   850000.0     PI       2.5    3067.0   \n",
       "6  Abbotsford      4    h  1600000.0     VB       2.5    3067.0   \n",
       "\n",
       "          CouncilArea  Lattitude  Longtitude             Regionname  \\\n",
       "1  Yarra City Council   -37.7996    144.9984  Northern Metropolitan   \n",
       "2  Yarra City Council   -37.8079    144.9934  Northern Metropolitan   \n",
       "4  Yarra City Council   -37.8093    144.9944  Northern Metropolitan   \n",
       "5  Yarra City Council   -37.7969    144.9969  Northern Metropolitan   \n",
       "6  Yarra City Council   -37.8072    144.9941  Northern Metropolitan   \n",
       "\n",
       "   Propertycount  \n",
       "1         4019.0  \n",
       "2         4019.0  \n",
       "4         4019.0  \n",
       "5         4019.0  \n",
       "6         4019.0  "
      ]
     },
     "execution_count": 5,
     "metadata": {},
     "output_type": "execute_result"
    }
   ],
   "source": [
    "df.head()"
   ]
  },
  {
   "cell_type": "markdown",
   "metadata": {},
   "source": [
    "# Exploring Data"
   ]
  },
  {
   "cell_type": "code",
   "execution_count": 6,
   "metadata": {},
   "outputs": [
    {
     "data": {
      "image/png": "[encoded data removed]",
      "text/plain": [
       "<Figure size 864x720 with 1 Axes>"
      ]
     },
     "metadata": {
      "needs_background": "light"
     },
     "output_type": "display_data"
    }
   ],
   "source": [
    "f, ax = plt.subplots(figsize=(12, 10))\n",
    "\n",
    "sns.countplot(y=df.CouncilArea)\n",
    "plt.show()"
   ]
  },
  {
   "cell_type": "code",
   "execution_count": 7,
   "metadata": {},
   "outputs": [
    {
     "data": {
      "image/png": "[encoded data removed]",
      "text/plain": [
       "<Figure size 864x720 with 1 Axes>"
      ]
     },
     "metadata": {
      "needs_background": "light"
     },
     "output_type": "display_data"
    }
   ],
   "source": [
    "f, ax = plt.subplots(figsize=(12, 10))\n",
    "\n",
    "sns.countplot(y=df.Regionname)\n",
    "plt.show()"
   ]
  },
  {
   "cell_type": "markdown",
   "metadata": {},
   "source": [
    "### Checking for Outliers"
   ]
  },
  {
   "cell_type": "code",
   "execution_count": 8,
   "metadata": {},
   "outputs": [
    {
     "data": {
      "image/png": "[encoded data removed]",
      "text/plain": [
       "<Figure size 432x288 with 1 Axes>"
      ]
     },
     "metadata": {
      "needs_background": "light"
     },
     "output_type": "display_data"
    }
   ],
   "source": [
    "sns.scatterplot(x='Longtitude', y='Price', data=df, color='m')\n",
    "plt.show()"
   ]
  },
  {
   "cell_type": "markdown",
   "metadata": {},
   "source": [
    "### Removing Outliers"
   ]
  },
  {
   "cell_type": "code",
   "execution_count": 9,
   "metadata": {},
   "outputs": [
    {
     "name": "stdout",
     "output_type": "stream",
     "text": [
      "(20993, 12)\n",
      "(20021, 12)\n"
     ]
    },
    {
     "data": {
      "text/html": [
       "<div>\n",
       "<style scoped>\n",
       "    .dataframe tbody tr th:only-of-type {\n",
       "        vertical-align: middle;\n",
       "    }\n",
       "\n",
       "    .dataframe tbody tr th {\n",
       "        vertical-align: top;\n",
       "    }\n",
       "\n",
       "    .dataframe thead th {\n",
       "        text-align: right;\n",
       "    }\n",
       "</style>\n",
       "<table border=\"1\" class=\"dataframe\">\n",
       "  <thead>\n",
       "    <tr style=\"text-align: right;\">\n",
       "      <th></th>\n",
       "      <th>Suburb</th>\n",
       "      <th>Rooms</th>\n",
       "      <th>Type</th>\n",
       "      <th>Price</th>\n",
       "      <th>Method</th>\n",
       "      <th>Distance</th>\n",
       "      <th>Postcode</th>\n",
       "      <th>CouncilArea</th>\n",
       "      <th>Lattitude</th>\n",
       "      <th>Longtitude</th>\n",
       "      <th>Regionname</th>\n",
       "      <th>Propertycount</th>\n",
       "    </tr>\n",
       "  </thead>\n",
       "  <tbody>\n",
       "    <tr>\n",
       "      <th>1</th>\n",
       "      <td>Abbotsford</td>\n",
       "      <td>2</td>\n",
       "      <td>h</td>\n",
       "      <td>1480000.0</td>\n",
       "      <td>S</td>\n",
       "      <td>2.5</td>\n",
       "      <td>3067.0</td>\n",
       "      <td>Yarra City Council</td>\n",
       "      <td>-37.7996</td>\n",
       "      <td>144.9984</td>\n",
       "      <td>Northern Metropolitan</td>\n",
       "      <td>4019.0</td>\n",
       "    </tr>\n",
       "    <tr>\n",
       "      <th>2</th>\n",
       "      <td>Abbotsford</td>\n",
       "      <td>2</td>\n",
       "      <td>h</td>\n",
       "      <td>1035000.0</td>\n",
       "      <td>S</td>\n",
       "      <td>2.5</td>\n",
       "      <td>3067.0</td>\n",
       "      <td>Yarra City Council</td>\n",
       "      <td>-37.8079</td>\n",
       "      <td>144.9934</td>\n",
       "      <td>Northern Metropolitan</td>\n",
       "      <td>4019.0</td>\n",
       "    </tr>\n",
       "    <tr>\n",
       "      <th>4</th>\n",
       "      <td>Abbotsford</td>\n",
       "      <td>3</td>\n",
       "      <td>h</td>\n",
       "      <td>1465000.0</td>\n",
       "      <td>SP</td>\n",
       "      <td>2.5</td>\n",
       "      <td>3067.0</td>\n",
       "      <td>Yarra City Council</td>\n",
       "      <td>-37.8093</td>\n",
       "      <td>144.9944</td>\n",
       "      <td>Northern Metropolitan</td>\n",
       "      <td>4019.0</td>\n",
       "    </tr>\n",
       "    <tr>\n",
       "      <th>5</th>\n",
       "      <td>Abbotsford</td>\n",
       "      <td>3</td>\n",
       "      <td>h</td>\n",
       "      <td>850000.0</td>\n",
       "      <td>PI</td>\n",
       "      <td>2.5</td>\n",
       "      <td>3067.0</td>\n",
       "      <td>Yarra City Council</td>\n",
       "      <td>-37.7969</td>\n",
       "      <td>144.9969</td>\n",
       "      <td>Northern Metropolitan</td>\n",
       "      <td>4019.0</td>\n",
       "    </tr>\n",
       "    <tr>\n",
       "      <th>6</th>\n",
       "      <td>Abbotsford</td>\n",
       "      <td>4</td>\n",
       "      <td>h</td>\n",
       "      <td>1600000.0</td>\n",
       "      <td>VB</td>\n",
       "      <td>2.5</td>\n",
       "      <td>3067.0</td>\n",
       "      <td>Yarra City Council</td>\n",
       "      <td>-37.8072</td>\n",
       "      <td>144.9941</td>\n",
       "      <td>Northern Metropolitan</td>\n",
       "      <td>4019.0</td>\n",
       "    </tr>\n",
       "  </tbody>\n",
       "</table>\n",
       "</div>"
      ],
      "text/plain": [
       "       Suburb  Rooms Type      Price Method  Distance  Postcode  \\\n",
       "1  Abbotsford      2    h  1480000.0      S       2.5    3067.0   \n",
       "2  Abbotsford      2    h  1035000.0      S       2.5    3067.0   \n",
       "4  Abbotsford      3    h  1465000.0     SP       2.5    3067.0   \n",
       "5  Abbotsford      3    h   850000.0     PI       2.5    3067.0   \n",
       "6  Abbotsford      4    h  1600000.0     VB       2.5    3067.0   \n",
       "\n",
       "          CouncilArea  Lattitude  Longtitude             Regionname  \\\n",
       "1  Yarra City Council   -37.7996    144.9984  Northern Metropolitan   \n",
       "2  Yarra City Council   -37.8079    144.9934  Northern Metropolitan   \n",
       "4  Yarra City Council   -37.8093    144.9944  Northern Metropolitan   \n",
       "5  Yarra City Council   -37.7969    144.9969  Northern Metropolitan   \n",
       "6  Yarra City Council   -37.8072    144.9941  Northern Metropolitan   \n",
       "\n",
       "   Propertycount  \n",
       "1         4019.0  \n",
       "2         4019.0  \n",
       "4         4019.0  \n",
       "5         4019.0  \n",
       "6         4019.0  "
      ]
     },
     "execution_count": 9,
     "metadata": {},
     "output_type": "execute_result"
    }
   ],
   "source": [
    "def remove_outlier(df, col):\n",
    "    q1 = df[col].quantile(0.25)\n",
    "    q3 = df[col].quantile(0.75)\n",
    "\n",
    "    iqr = q3 - q1\n",
    "    lower_bound  = q1 - (1.5  * iqr)\n",
    "    upper_bound = q3 + (1.5 * iqr)\n",
    "\n",
    "    out_df = df.loc[(df[col] > lower_bound) & (df[col] < upper_bound)]\n",
    "    return out_df\n",
    "print(df.shape)\n",
    "df = remove_outlier(df, 'Price')\n",
    "print(df.shape)\n",
    "df.head()"
   ]
  },
  {
   "cell_type": "markdown",
   "metadata": {},
   "source": [
    "### Checking Graph After Outlier Removal"
   ]
  },
  {
   "cell_type": "code",
   "execution_count": 10,
   "metadata": {},
   "outputs": [
    {
     "data": {
      "image/png": "[encoded data removed]",
      "text/plain": [
       "<Figure size 432x288 with 1 Axes>"
      ]
     },
     "metadata": {
      "needs_background": "light"
     },
     "output_type": "display_data"
    }
   ],
   "source": [
    "sns.scatterplot(x='Longtitude', y='Price', data=df, color='m')\n",
    "plt.show()"
   ]
  },
  {
   "cell_type": "markdown",
   "metadata": {},
   "source": [
    "### Creating Categorical Features"
   ]
  },
  {
   "cell_type": "code",
   "execution_count": 11,
   "metadata": {},
   "outputs": [],
   "source": [
    "df['SuburbCat'] = df.Suburb.astype('category').cat.codes\n",
    "df['TypeCat'] = df.Type.astype('category').cat.codes\n",
    "df['MethodCat'] = df.Method.astype('category').cat.codes\n",
    "df['RegionCat'] = df.Regionname.astype('category').cat.codes\n",
    "df['CouncilCat'] = df.CouncilArea.astype('category').cat.codes"
   ]
  },
  {
   "cell_type": "markdown",
   "metadata": {},
   "source": [
    "### Feature Selection"
   ]
  },
  {
   "cell_type": "code",
   "execution_count": 12,
   "metadata": {},
   "outputs": [
    {
     "data": {
      "text/plain": [
       "Index(['Suburb', 'Rooms', 'Type', 'Price', 'Method', 'Distance', 'Postcode',\n",
       "       'CouncilArea', 'Lattitude', 'Longtitude', 'Regionname', 'Propertycount',\n",
       "       'SuburbCat', 'TypeCat', 'MethodCat', 'RegionCat', 'CouncilCat'],\n",
       "      dtype='object')"
      ]
     },
     "execution_count": 12,
     "metadata": {},
     "output_type": "execute_result"
    }
   ],
   "source": [
    "df.columns"
   ]
  },
  {
   "cell_type": "markdown",
   "metadata": {},
   "source": [
    "### Creating Variables for Training and Testing"
   ]
  },
  {
   "cell_type": "code",
   "execution_count": 13,
   "metadata": {},
   "outputs": [],
   "source": [
    "cols = ['Rooms', 'Price', 'Distance', 'Postcode', 'Lattitude', 'Longtitude', 'Propertycount',\n",
    "        'SuburbCat', 'TypeCat', 'MethodCat', 'RegionCat', 'CouncilCat']\n",
    "\n",
    "test_df = df.loc[:, cols]\n",
    "\n",
    "X = test_df.drop('Price', axis=1)\n",
    "y = test_df['Price']"
   ]
  },
  {
   "cell_type": "markdown",
   "metadata": {},
   "source": [
    "### Checking Correlation"
   ]
  },
  {
   "cell_type": "code",
   "execution_count": 14,
   "metadata": {},
   "outputs": [
    {
     "data": {
      "image/png": "[encoded data removed]",
      "text/plain": [
       "<Figure size 864x720 with 2 Axes>"
      ]
     },
     "metadata": {
      "needs_background": "light"
     },
     "output_type": "display_data"
    }
   ],
   "source": [
    "corrmat = test_df.corr(method='spearman')\n",
    "f, ax = plt.subplots(figsize=(12, 10))\n",
    "sns.heatmap(corrmat, ax=ax, cmap=\"YlGnBu\", linewidths=0.1)\n",
    "plt.show()"
   ]
  },
  {
   "cell_type": "markdown",
   "metadata": {},
   "source": [
    "### Creating PCA and K Best Train/Test Sets."
   ]
  },
  {
   "cell_type": "code",
   "execution_count": 15,
   "metadata": {},
   "outputs": [
    {
     "name": "stdout",
     "output_type": "stream",
     "text": [
      "PCA Explained Variance: 0.9444930785018105\n"
     ]
    }
   ],
   "source": [
    "from sklearn.preprocessing import StandardScaler\n",
    "from sklearn.decomposition import PCA\n",
    "from sklearn.feature_selection import SelectKBest\n",
    "from sklearn.model_selection import train_test_split\n",
    "from sklearn import metrics\n",
    "\n",
    "scaler = StandardScaler()\n",
    "X = scaler.fit_transform(X.astype('float64'))\n",
    "\n",
    "'''\n",
    "These functions will be called to reduce the dimensionality of the data. Each will be put into\n",
    "their own variable to test against one another.\n",
    "'''\n",
    "def apply_pca(X):\n",
    "    scaler = StandardScaler()\n",
    "    pca = PCA(n_components=9)\n",
    "    X = pca.fit_transform(X)\n",
    "    \n",
    "    print('PCA Explained Variance: {}'.format(pca.explained_variance_ratio_.sum()))\n",
    "    return X\n",
    "\n",
    "def apply_kbest(X, y):\n",
    "    kbest = SelectKBest(k=9)\n",
    "    X = kbest.fit_transform(X, y)\n",
    "    return X\n",
    "\n",
    "X_pca = apply_pca(X)\n",
    "X_k = apply_kbest(X, y)\n",
    "\n",
    "\n",
    "#Creating test sets\n",
    "X_train_pca, X_test_pca, y_train_pca, y_test_pca = train_test_split(X_pca, y, test_size=0.33, random_state=42)\n",
    "X_train_k, X_test_k, y_train_k, y_test_k = train_test_split(X_k, y, test_size=0.33, random_state=42)"
   ]
  },
  {
   "cell_type": "code",
   "execution_count": 16,
   "metadata": {},
   "outputs": [],
   "source": [
    "def eval_model(model_pca, model_k):\n",
    "    '''\n",
    "    The purpose of this function will serve to train the models and return a list \n",
    "    that contains the score and prediction values. That will later be used for assessment.\n",
    "    '''\n",
    "    pca = []\n",
    "    model_pca.fit(X_train_pca, y_train_pca)\n",
    "    pca.append(model_pca.score(X_test_pca, y_test_pca))\n",
    "    pca.append(model_pca.predict(X_test_pca))\n",
    "    \n",
    "    k = []\n",
    "    model_k.fit(X_train_k, y_train_k)\n",
    "    k.append(model_k.score(X_test_k, y_test_k))\n",
    "    k.append(model_k.predict(X_test_k))\n",
    "    \n",
    "    return pca, k"
   ]
  },
  {
   "cell_type": "markdown",
   "metadata": {},
   "source": [
    "# Creating Models\n",
    "Will be making use of:\n",
    "- LightGBM\n",
    "- Decision Tree\n",
    "- Random Forest\n",
    "- K Nearest Neighbors\n",
    "- Ridge Regression\n",
    "- Logistic Regression\n",
    "- Stochastic Gradient Descent"
   ]
  },
  {
   "cell_type": "code",
   "execution_count": 17,
   "metadata": {},
   "outputs": [],
   "source": [
    "import lightgbm as lgb\n",
    "from sklearn.linear_model import Ridge\n",
    "from sklearn.tree import DecisionTreeRegressor\n",
    "from sklearn.ensemble import RandomForestRegressor\n",
    "from sklearn.neighbors import KNeighborsRegressor\n",
    "from sklearn.linear_model import LogisticRegression\n",
    "from sklearn.linear_model import SGDRegressor\n",
    "from sklearn.model_selection import GridSearchCV\n",
    "\n",
    "\n",
    "gbm_pca = lgb.LGBMRegressor(boosting_type='gbdt', objective='regression', learning_rate=0.5, feature_fration=0.9, bagging_fraction=0.9,\n",
    "                            bagging_freq=5, device='gpu', verbose=0)\n",
    "\n",
    "gbm_k = lgb.LGBMRegressor(boosting_type='gbdt', objective='regression', learning_rate=0.5, feature_fration=0.9, bagging_fraction=0.9,\n",
    "                            bagging_freq=5, device='gpu', verbose=0)\n",
    "\n",
    "rfc_pca = RandomForestRegressor(n_estimators=500, max_features='sqrt', min_samples_split=2, criterion='mse', max_depth=9)\n",
    "rfc_k = RandomForestRegressor(n_estimators=500, max_features='sqrt', min_samples_split=2, criterion='mse', max_depth=9)\n",
    "\n",
    "knn_pca = KNeighborsRegressor(n_jobs=-1)\n",
    "knn_k = KNeighborsRegressor(n_jobs=-1)\n",
    "\n",
    "rdg_pca = Ridge(alpha=1.0, solver='saga')\n",
    "rdg_k = Ridge(alpha=1.0, solver='saga')\n",
    "\n",
    "log_pca = LogisticRegression(solver='lbfgs', multi_class='ovr')\n",
    "log_k = LogisticRegression(solver='lbfgs', multi_class='ovr')\n",
    "\n",
    "sgd_pca = SGDRegressor(loss='squared_loss', max_iter=500, tol=1e-3)\n",
    "sgd_k = SGDRegressor(loss='squared_loss', max_iter=500, tol=1e-3)\n",
    "\n",
    "\n",
    "#----------Grid Search CV---------#\n",
    "\n",
    "dtr_params = parameters = {'criterion':['mse'], \n",
    "              'min_samples_split':[2,5], \n",
    "              'max_depth':[9,12],\n",
    "             }\n",
    "\n",
    "dtr_pca = DecisionTreeRegressor()\n",
    "dtr_k = DecisionTreeRegressor()\n",
    "\n",
    "dtr_gsearch_pca = GridSearchCV(dtr_pca, dtr_params, cv=5)\n",
    "dtr_gsearch_pca.fit(X_train_pca, y_train_pca)\n",
    "\n",
    "dtr_gsearch_k = GridSearchCV(dtr_k, dtr_params, cv=5)\n",
    "dtr_gsearch_k.fit(X_train_k, y_train_k)\n",
    "\n",
    "dtr_pca_best = dtr_gsearch_pca.best_estimator_\n",
    "dtr_k_best = dtr_gsearch_k.best_estimator_"
   ]
  },
  {
   "cell_type": "markdown",
   "metadata": {},
   "source": [
    "### Training models and returning a list that contains the score and predictions"
   ]
  },
  {
   "cell_type": "code",
   "execution_count": 18,
   "metadata": {},
   "outputs": [],
   "source": [
    "gbm_eval = eval_model(gbm_pca, gbm_k)\n",
    "dtr_eval = eval_model(dtr_pca_best, dtr_k_best)\n",
    "rfc_eval = eval_model(rfc_pca, rfc_k)\n",
    "knn_eval = eval_model(knn_pca, knn_k)\n",
    "rdg_eval = eval_model(rdg_pca, rdg_k)\n",
    "log_eval = eval_model(log_pca, log_k)\n",
    "sgd_eval = eval_model(sgd_pca, sgd_k)"
   ]
  },
  {
   "cell_type": "markdown",
   "metadata": {},
   "source": [
    "# PCA RMSE Scores"
   ]
  },
  {
   "cell_type": "code",
   "execution_count": 19,
   "metadata": {},
   "outputs": [
    {
     "name": "stdout",
     "output_type": "stream",
     "text": [
      "Light GBM Score: 243316.590\n",
      "Decision Tree Score: 269464.700\n",
      "Random Forest Score: 246486.031\n",
      "K Nearest Neighbor Score: 238652.920\n",
      "Ridge Regression Score: 343810.287\n",
      "Logistic Regression Score: 345812.868\n",
      "Stochastic Gradient Descent Score: 344221.069\n"
     ]
    }
   ],
   "source": [
    "from sklearn.metrics import mean_squared_error\n",
    "\n",
    "gbm_mse = mean_squared_error(y_test_pca, gbm_eval[0][1])\n",
    "dtr_mse = mean_squared_error(y_test_pca, dtr_eval[0][1])\n",
    "rfc_mse = mean_squared_error(y_test_pca, rfc_eval[0][1])\n",
    "knn_mse = mean_squared_error(y_test_pca, knn_eval[0][1])\n",
    "rdg_mse = mean_squared_error(y_test_pca, rdg_eval[0][1])\n",
    "log_mse = mean_squared_error(y_test_pca, log_eval[0][1])\n",
    "sgd_mse = mean_squared_error(y_test_pca, sgd_eval[0][1])\n",
    "\n",
    "\n",
    "print('Light GBM Score: {:.3f}'.format(np.sqrt(gbm_mse)))\n",
    "print('Decision Tree Score: {:.3f}'.format(np.sqrt(dtr_mse)))\n",
    "print('Random Forest Score: {:.3f}'.format(np.sqrt(rfc_mse)))\n",
    "print('K Nearest Neighbor Score: {:.3f}'.format(np.sqrt(knn_mse)))\n",
    "print('Ridge Regression Score: {:.3f}'.format(np.sqrt(rdg_mse)))\n",
    "print('Logistic Regression Score: {:.3f}'.format(np.sqrt(log_mse)))\n",
    "print('Stochastic Gradient Descent Score: {:.3f}'.format(np.sqrt(sgd_mse)))"
   ]
  },
  {
   "cell_type": "markdown",
   "metadata": {},
   "source": [
    "# K Best RMSE Scores"
   ]
  },
  {
   "cell_type": "code",
   "execution_count": 20,
   "metadata": {},
   "outputs": [
    {
     "name": "stdout",
     "output_type": "stream",
     "text": [
      "Light GBM Score: 217577.801\n",
      "Decision Tree Score: 241564.252\n",
      "Random Forest Score: 224184.696\n",
      "K Nearest Neighbor Score: 229280.865\n",
      "Ridge Regression Score: 295010.727\n",
      "Logistic Regression Score: 312620.965\n",
      "Stochastic Gradient Descent Score: 295579.182\n"
     ]
    }
   ],
   "source": [
    "gbm_mse_k = mean_squared_error(y_test_k, gbm_eval[1][1])\n",
    "dtr_mse_k = mean_squared_error(y_test_k, dtr_eval[1][1])\n",
    "rfc_mse_k = mean_squared_error(y_test_k, rfc_eval[1][1])\n",
    "knn_mse_k = mean_squared_error(y_test_k, knn_eval[1][1])\n",
    "rdg_mse_k = mean_squared_error(y_test_k, rdg_eval[1][1])\n",
    "log_mse_k = mean_squared_error(y_test_k, log_eval[1][1])\n",
    "sgd_mse_k = mean_squared_error(y_test_k, sgd_eval[1][1])\n",
    "\n",
    "\n",
    "print('Light GBM Score: {:.3f}'.format(np.sqrt(gbm_mse_k)))\n",
    "print('Decision Tree Score: {:.3f}'.format(np.sqrt(dtr_mse_k)))\n",
    "print('Random Forest Score: {:.3f}'.format(np.sqrt(rfc_mse_k)))\n",
    "print('K Nearest Neighbor Score: {:.3f}'.format(np.sqrt(knn_mse_k)))\n",
    "print('Ridge Regression Score: {:.3f}'.format(np.sqrt(rdg_mse_k)))\n",
    "print('Logistic Regression Score: {:.3f}'.format(np.sqrt(log_mse_k)))\n",
    "print('Stochastic Gradient Descent Score: {:.3f}'.format(np.sqrt(sgd_mse_k)))"
   ]
  },
  {
   "cell_type": "markdown",
   "metadata": {},
   "source": [
    "# PCA Cross Validation\n",
    "\n",
    "Unable to get cross validation to run properly. I kept getting this error. \n",
    "\n",
    "- 'Warning: The least populated class in y has only 1 members, which is too few. The minimum number of members in any class cannot be less than n_splits=5.\n",
    "  % (min_groups, self.n_splits)), Warning)'"
   ]
  },
  {
   "cell_type": "code",
   "execution_count": null,
   "metadata": {},
   "outputs": [],
   "source": [
    "from sklearn.model_selection import cross_val_score\n",
    "\n",
    "def cross_val(model, pca):\n",
    "    if pca == True:\n",
    "        cv_score = cross_val_score(model, X, y, cv=5, scoring='r2', n_jobs=-1)\n",
    "        return cv_score \n",
    "    else:\n",
    "        cv_score = cross_val_score(model, X, y, cv=5, scoring='r2', n_jobs=-1)\n",
    "        return cv_score \n",
    "        \n",
    "\n",
    "gbm_cv_pca = cross_val(gbm_pca, True)\n",
    "dtr_cv_pca = cross_val(dtr_pca_best, True)\n",
    "rfc_cv_pca = cross_val(rfc_pca, True)\n",
    "knn_cv_pca = cross_val(knn_pca, True)\n",
    "rdg_cv_pca = cross_val(rdg_pca, True)\n",
    "log_cv_pca = cross_val(log_pca, True)\n",
    "sgd_cv_pca = cross_val(sgd_pca, True)\n",
    "\n",
    "\n",
    "print('Light GBM Score: {:.3f}\\n{}\\n'.format(gbm_cv_pca.mean(), gbm_cv_pca))\n",
    "print('Decision Tree Score: {:.3f}\\n'.format(dtr_cv_pca.mean(), dtr_cv_pca))\n",
    "print('Random Forest Score: {:.3f}\\n'.format(rfc_cv_pca.mean(), rfc_cv_pca))\n",
    "print('K Nearest Neighbor Score: {:.3f}\\n'.format(knn_cv_pca.mean(), knn_cv_pca))\n",
    "print('Ridge Regression Score: {:.3f}\\n'.format(rdg_cv_pca.mean(), rdg_cv_pca))\n",
    "print('Logistic Regression Score: {:.3f}\\n'.format(log_cv_pca.mean(), log_cv_pca))\n",
    "print('Stochastic Gradient Descent Score: {:.3f}\\n'.format(log_cv_pca.mean(), log_cv_pca))"
   ]
  },
  {
   "cell_type": "markdown",
   "metadata": {},
   "source": [
    "# K Best Cross Validation\n",
    "\n",
    "For some reason I kept getting this error. 'Warning: The least populated class in y has only 1 members, which is too few. The minimum number of members in any class cannot be less than n_splits=5.\n",
    "  % (min_groups, self.n_splits)), Warning)'"
   ]
  },
  {
   "cell_type": "code",
   "execution_count": null,
   "metadata": {},
   "outputs": [],
   "source": [
    "gbm_cv_k = cross_val(gbm_k, False)\n",
    "dtr_cv_k = cross_val(dtr_k_best, False)\n",
    "rfc_cv_k = cross_val(rfc_k, False)\n",
    "knn_cv_k = cross_val(knn_k, False)\n",
    "rdg_cv_k = cross_val(rdg_k, False)\n",
    "log_cv_k = cross_val(log_k, False)\n",
    "sgd_cv_k = cross_val(sgd_k, False)\n",
    "\n",
    "\n",
    "print('Light GBM Score: {:.3f}\\n{}'.format(gbm_cv_k.mean(), gbm_cv_k))\n",
    "print('Decision Tree Score: {:.3f}'.format(dtr_cv_k.mean(), dtr_cv_k))\n",
    "print('Random Forest Score: {:.3f}'.format(rfc_cv_k.mean(), rfc_cv_k))\n",
    "print('K Nearest Neighbor Score: {:.3f}'.format(knn_cv_k.mean(), knn_cv_k))\n",
    "print('Ridge Regression Score: {:.3f}'.format(rdg_cv_k.mean(), rdg_cv_k))\n",
    "print('Logistic Regression Score: {:.3f}'.format(log_cv_k.mean(), log_cv_k))\n",
    "print('Stochastic Gradient Descent Score: {:.3f}'.format(log_cv_k.mean(), log_cv_k))"
   ]
  },
  {
   "cell_type": "markdown",
   "metadata": {},
   "source": [
    "# PCA R^2 Score"
   ]
  },
  {
   "cell_type": "code",
   "execution_count": 21,
   "metadata": {},
   "outputs": [
    {
     "name": "stdout",
     "output_type": "stream",
     "text": [
      "Light GBM Score: 0.713\n",
      "Decision Tree Score: 0.648\n",
      "Random Forest Score: 0.705\n",
      "K Nearest Neighbor Score: 0.724\n",
      "Ridge Regression Score: 0.426\n",
      "Logistic Regression Score: 0.420\n",
      "Stochastic Gradient Descent Score: 0.425\n"
     ]
    }
   ],
   "source": [
    "from sklearn.metrics import r2_score\n",
    "\n",
    "gbm_r = r2_score(y_test_pca, gbm_eval[0][1])\n",
    "dtr_r = r2_score(y_test_pca, dtr_eval[0][1])\n",
    "rfc_r = r2_score(y_test_pca, rfc_eval[0][1])\n",
    "knn_r = r2_score(y_test_pca, knn_eval[0][1])\n",
    "rdg_r = r2_score(y_test_pca, rdg_eval[0][1])\n",
    "log_r = r2_score(y_test_pca, log_eval[0][1])\n",
    "sgd_r = r2_score(y_test_pca, sgd_eval[0][1])\n",
    "\n",
    "\n",
    "print('Light GBM Score: {:.3f}'.format(gbm_r))\n",
    "print('Decision Tree Score: {:.3f}'.format(dtr_r))\n",
    "print('Random Forest Score: {:.3f}'.format(rfc_r))\n",
    "print('K Nearest Neighbor Score: {:.3f}'.format(knn_r))\n",
    "print('Ridge Regression Score: {:.3f}'.format(rdg_r))\n",
    "print('Logistic Regression Score: {:.3f}'.format(log_r))\n",
    "print('Stochastic Gradient Descent Score: {:.3f}'.format(sgd_r))"
   ]
  },
  {
   "cell_type": "markdown",
   "metadata": {},
   "source": [
    "# K Best R^2 Score"
   ]
  },
  {
   "cell_type": "code",
   "execution_count": 22,
   "metadata": {},
   "outputs": [
    {
     "name": "stdout",
     "output_type": "stream",
     "text": [
      "Light GBM Score: 0.713\n",
      "Decision Tree Score: 0.648\n",
      "Random Forest Score: 0.705\n",
      "K Nearest Neighbor Score: 0.724\n",
      "Ridge Regression Score: 0.426\n",
      "Logistic Regression Score: 0.420\n",
      "Stochastic Gradient Descent Score: 0.425\n"
     ]
    }
   ],
   "source": [
    "gbm_r = r2_score(y_test_k, gbm_eval[0][1])\n",
    "dtr_r = r2_score(y_test_k, dtr_eval[0][1])\n",
    "rfc_r = r2_score(y_test_k, rfc_eval[0][1])\n",
    "knn_r = r2_score(y_test_k, knn_eval[0][1])\n",
    "rdg_r = r2_score(y_test_k, rdg_eval[0][1])\n",
    "log_r = r2_score(y_test_k, log_eval[0][1])\n",
    "sgd_r = r2_score(y_test_k, sgd_eval[0][1])\n",
    "\n",
    "\n",
    "print('Light GBM Score: {:.3f}'.format(gbm_r))\n",
    "print('Decision Tree Score: {:.3f}'.format(dtr_r))\n",
    "print('Random Forest Score: {:.3f}'.format(rfc_r))\n",
    "print('K Nearest Neighbor Score: {:.3f}'.format(knn_r))\n",
    "print('Ridge Regression Score: {:.3f}'.format(rdg_r))\n",
    "print('Logistic Regression Score: {:.3f}'.format(log_r))\n",
    "print('Stochastic Gradient Descent Score: {:.3f}'.format(sgd_r))"
   ]
  },
  {
   "cell_type": "markdown",
   "metadata": {},
   "source": [
    "# Conclusion\n",
    "\n",
    "The three strongest models in order are LightGBM, Random Forest, K Nearest Neighbors. It makes a lot of sense that the K Nearest Neighbor model performed as well as it did. Houses with similar prices will have similar feature values. While Random Forest and Gradient Boosting do a great job of increasing their accuracy with large data sets with minimal effort. "
   ]
  }
 ],
 "metadata": {
  "kernelspec": {
   "display_name": "Python 3",
   "language": "python",
   "name": "python3"
  },
  "language_info": {
   "codemirror_mode": {
    "name": "ipython",
    "version": 3
   },
   "file_extension": ".py",
   "mimetype": "text/x-python",
   "name": "python",
   "nbconvert_exporter": "python",
   "pygments_lexer": "ipython3",
   "version": "3.6.8"
  }
 },
 "nbformat": 4,
 "nbformat_minor": 2
}
